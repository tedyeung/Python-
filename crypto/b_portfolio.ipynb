{
 "cells": [
  {
   "cell_type": "code",
   "execution_count": 1,
   "metadata": {
    "collapsed": true
   },
   "outputs": [],
   "source": [
    "# B Cryptos Portfolio\n",
    "import pandas as pd\n",
    "import numpy as np\n",
    "import matplotlib.pyplot as plt\n",
    "%matplotlib inline "
   ]
  },
  {
   "cell_type": "code",
   "execution_count": 12,
   "metadata": {},
   "outputs": [],
   "source": [
    "cryptos = {  \n",
    "    \n",
    "  'legend': ['Cryptos_Balance', '01/06/18'],\n",
    "  'trx': [49979, 0.18],\n",
    "  'xlm': [20382, 0.71],\n",
    "  'xem': [10000, 1.62],\n",
    " 'doge': [66948, 0.015],\n",
    "  'xmr': [12, 402.52],\n",
    " 'ada': [4795, 1.02],\n",
    " 'iota': [976, 4.00],\n",
    " 'dcn': [8320000, 0.0025],\n",
    " 'eth': [18, 1011.63],\n",
    " 'rpl': [15500, 2.70],\n",
    " 'btc': [1.01, 17.039]\n",
    "    \n",
    "}  "
   ]
  },
  {
   "cell_type": "code",
   "execution_count": 13,
   "metadata": {},
   "outputs": [
    {
     "name": "stdout",
     "output_type": "stream",
     "text": [
      "Please add Data format MM/DD/YY: 01/07/18\n",
      "Cryto  TRX\n",
      "Add Crypto Price of : 0.17\n",
      "Cryto  XLM\n",
      "Add Crypto Price of : 0.71\n",
      "Cryto  XEM\n",
      "Add Crypto Price of : 1.6\n",
      "Cryto  DOGE\n",
      "Add Crypto Price of : 0.1463\n",
      "Cryto  XMR\n",
      "Add Crypto Price of : 414.64\n",
      "Cryto  ADA\n",
      "Add Crypto Price of : 1.02\n",
      "Cryto  IOTA\n",
      "Add Crypto Price of : 4.0\n",
      "Cryto  DCN\n",
      "Add Crypto Price of : 0.002553\n",
      "Cryto  ETH\n",
      "Add Crypto Price of : 1018.55\n",
      "Cryto  RPL\n",
      "Add Crypto Price of : 2.67\n",
      "Cryto  BTC\n",
      "Add Crypto Price of : 16775.0\n"
     ]
    }
   ],
   "source": [
    "def add_cryptos ():\n",
    "    for n in cryptos:\n",
    "        if 'legend' == n:\n",
    "            date = input('Please add Data format MM/DD/YY: ' )\n",
    "            cryptos[n].append(date)\n",
    "        else: \n",
    "            print('Cryto ', n.upper())\n",
    "            value = float(input('Add Crypto Price of : '))\n",
    "            cryptos[n].append(value)\n",
    "add_cryptos()"
   ]
  },
  {
   "cell_type": "code",
   "execution_count": 10,
   "metadata": {},
   "outputs": [],
   "source": [
    "p = pd.DataFrame(data=cryptos)\n",
    "p = p.set_index(['legend'])      "
   ]
  },
  {
   "cell_type": "code",
   "execution_count": 11,
   "metadata": {},
   "outputs": [
    {
     "data": {
      "text/html": [
       "<div>\n",
       "<style>\n",
       "    .dataframe thead tr:only-child th {\n",
       "        text-align: right;\n",
       "    }\n",
       "\n",
       "    .dataframe thead th {\n",
       "        text-align: left;\n",
       "    }\n",
       "\n",
       "    .dataframe tbody tr th {\n",
       "        vertical-align: top;\n",
       "    }\n",
       "</style>\n",
       "<table border=\"1\" class=\"dataframe\">\n",
       "  <thead>\n",
       "    <tr style=\"text-align: right;\">\n",
       "      <th></th>\n",
       "      <th>ada</th>\n",
       "      <th>btc</th>\n",
       "      <th>dcn</th>\n",
       "      <th>doge</th>\n",
       "      <th>eth</th>\n",
       "      <th>iota</th>\n",
       "      <th>rpl</th>\n",
       "      <th>trx</th>\n",
       "      <th>xem</th>\n",
       "      <th>xlm</th>\n",
       "      <th>xmr</th>\n",
       "    </tr>\n",
       "    <tr>\n",
       "      <th>legend</th>\n",
       "      <th></th>\n",
       "      <th></th>\n",
       "      <th></th>\n",
       "      <th></th>\n",
       "      <th></th>\n",
       "      <th></th>\n",
       "      <th></th>\n",
       "      <th></th>\n",
       "      <th></th>\n",
       "      <th></th>\n",
       "      <th></th>\n",
       "    </tr>\n",
       "  </thead>\n",
       "  <tbody>\n",
       "    <tr>\n",
       "      <th>01/06/18</th>\n",
       "      <td>4795.00</td>\n",
       "      <td>1.010</td>\n",
       "      <td>8.320000e+06</td>\n",
       "      <td>66948.000</td>\n",
       "      <td>18.00</td>\n",
       "      <td>976.0</td>\n",
       "      <td>15500.0</td>\n",
       "      <td>49979.00</td>\n",
       "      <td>10000.00</td>\n",
       "      <td>20382.00</td>\n",
       "      <td>12.00</td>\n",
       "    </tr>\n",
       "    <tr>\n",
       "      <th>01/06/18</th>\n",
       "      <td>1.02</td>\n",
       "      <td>17.039</td>\n",
       "      <td>2.500000e-03</td>\n",
       "      <td>0.015</td>\n",
       "      <td>1011.63</td>\n",
       "      <td>4.0</td>\n",
       "      <td>2.7</td>\n",
       "      <td>0.18</td>\n",
       "      <td>1.62</td>\n",
       "      <td>0.71</td>\n",
       "      <td>402.52</td>\n",
       "    </tr>\n",
       "  </tbody>\n",
       "</table>\n",
       "</div>"
      ],
      "text/plain": [
       "              ada     btc           dcn       doge      eth   iota      rpl  \\\n",
       "legend                                                                        \n",
       "01/06/18  4795.00   1.010  8.320000e+06  66948.000    18.00  976.0  15500.0   \n",
       "01/06/18     1.02  17.039  2.500000e-03      0.015  1011.63    4.0      2.7   \n",
       "\n",
       "               trx       xem       xlm     xmr  \n",
       "legend                                          \n",
       "01/06/18  49979.00  10000.00  20382.00   12.00  \n",
       "01/06/18      0.18      1.62      0.71  402.52  "
      ]
     },
     "execution_count": 11,
     "metadata": {},
     "output_type": "execute_result"
    }
   ],
   "source": [
    "p"
   ]
  },
  {
   "cell_type": "code",
   "execution_count": null,
   "metadata": {
    "collapsed": true
   },
   "outputs": [],
   "source": [
    "crypto_price = float('Please add crypto price ')\n",
    "def crypto_calculator():\n",
    "    "
   ]
  }
 ],
 "metadata": {
  "kernelspec": {
   "display_name": "Python 3",
   "language": "python",
   "name": "python3"
  },
  "language_info": {
   "codemirror_mode": {
    "name": "ipython",
    "version": 3
   },
   "file_extension": ".py",
   "mimetype": "text/x-python",
   "name": "python",
   "nbconvert_exporter": "python",
   "pygments_lexer": "ipython3",
   "version": "3.6.2"
  }
 },
 "nbformat": 4,
 "nbformat_minor": 2
}

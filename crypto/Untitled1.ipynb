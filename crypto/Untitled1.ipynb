{
 "cells": [
  {
   "cell_type": "code",
   "execution_count": 14,
   "metadata": {},
   "outputs": [
    {
     "name": "stdout",
     "output_type": "stream",
     "text": [
      "Add price: 1.01\n",
      "Add crypto: 16830\n",
      "$  16998.3\n"
     ]
    }
   ],
   "source": [
    "p = float(input('Add price: '))\n",
    "c = float(input('Add crypto: '))\n",
    "l = []\n",
    "def dollars (price, crypto):\n",
    "    d = p * c\n",
    "    return d\n",
    "\n",
    "\n",
    "print('$ ', dollars(p,c))"
   ]
  },
  {
   "cell_type": "code",
   "execution_count": 3,
   "metadata": {},
   "outputs": [
    {
     "data": {
      "text/plain": [
       "1004.2199999999999"
      ]
     },
     "execution_count": 3,
     "metadata": {},
     "output_type": "execute_result"
    }
   ],
   "source": [
    "66948 * 0.015 "
   ]
  },
  {
   "cell_type": "code",
   "execution_count": 15,
   "metadata": {
    "collapsed": true
   },
   "outputs": [],
   "source": [
    "# Crypto_Valute\n",
    "\n",
    "trx = 49979\n",
    "xlm = 20382\n",
    "xem = 10000\n",
    "doge = 66948\n",
    "monero = 12\n",
    "ada = 4795\n",
    "iota = 286\n",
    "dcn = 8320000\n",
    "eth = 18\n",
    "rpl = 15500\n",
    "btc = 1.01"
   ]
  },
  {
   "cell_type": "code",
   "execution_count": null,
   "metadata": {},
   "outputs": [],
   "source": [
    "p = float(input('Add price: '))\n",
    "c = float(input('Add crypto: '))\n",
    "l = []\n",
    "def dollars (price, crypto):\n",
    "    d = p * c\n",
    "    l.append(d)\n",
    "    return d\n",
    "\n",
    "\n",
    "print('$ ', dollars(p,c))"
   ]
  },
  {
   "cell_type": "code",
   "execution_count": null,
   "metadata": {
    "collapsed": true
   },
   "outputs": [],
   "source": [
    "l = [8496, 15082, 1620, 1004, 5040, 4842, 1126, 19352, 18000, 42160, 16800]\n",
    "l"
   ]
  },
  {
   "cell_type": "code",
   "execution_count": null,
   "metadata": {
    "collapsed": true
   },
   "outputs": [],
   "source": [
    "b = sum(l)\n",
    "b"
   ]
  },
  {
   "cell_type": "code",
   "execution_count": null,
   "metadata": {
    "collapsed": true
   },
   "outputs": [],
   "source": []
  }
 ],
 "metadata": {
  "kernelspec": {
   "display_name": "Python 3",
   "language": "python",
   "name": "python3"
  },
  "language_info": {
   "codemirror_mode": {
    "name": "ipython",
    "version": 3
   },
   "file_extension": ".py",
   "mimetype": "text/x-python",
   "name": "python",
   "nbconvert_exporter": "python",
   "pygments_lexer": "ipython3",
   "version": "3.6.3"
  }
 },
 "nbformat": 4,
 "nbformat_minor": 2
}

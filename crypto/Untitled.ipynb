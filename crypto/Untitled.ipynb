{
 "cells": [
  {
   "cell_type": "code",
   "execution_count": null,
   "metadata": {},
   "outputs": [],
   "source": [
    "l = []\n",
    "def dollars (price, crypto):\n",
    "    p = float(input('Add price: '))\n",
    "    c = float(input('Add crypto: '))\n",
    "    d = p * c\n",
    "    return d\n",
    "\n",
    "\n",
    "print('$ ', dollars(p,c))\n",
    "l.append(dollars(p,c))"
   ]
  },
  {
   "cell_type": "code",
   "execution_count": 6,
   "metadata": {},
   "outputs": [
    {
     "data": {
      "text/plain": [
       "[8496.43]"
      ]
     },
     "execution_count": 6,
     "metadata": {},
     "output_type": "execute_result"
    }
   ],
   "source": [
    "trx = 49979\n",
    "xlm = 20382\n",
    "xem = 10000\n",
    "doge = 66948\n",
    "monero = 12\n",
    "ada = 4795\n",
    "iota = 976\n",
    "dcn = 8320000\n",
    "eth = 18\n",
    "rpl = 15500\n",
    "btc = 1.01\n",
    "\n",
    "l"
   ]
  },
  {
   "cell_type": "code",
   "execution_count": 7,
   "metadata": {
    "collapsed": true
   },
   "outputs": [],
   "source": [
    "l.append(dollars(p,c))"
   ]
  },
  {
   "cell_type": "code",
   "execution_count": null,
   "metadata": {
    "collapsed": true
   },
   "outputs": [],
   "source": []
  }
 ],
 "metadata": {
  "kernelspec": {
   "display_name": "Python 3",
   "language": "python",
   "name": "python3"
  },
  "language_info": {
   "codemirror_mode": {
    "name": "ipython",
    "version": 3
   },
   "file_extension": ".py",
   "mimetype": "text/x-python",
   "name": "python",
   "nbconvert_exporter": "python",
   "pygments_lexer": "ipython3",
   "version": "3.6.3"
  }
 },
 "nbformat": 4,
 "nbformat_minor": 2
}

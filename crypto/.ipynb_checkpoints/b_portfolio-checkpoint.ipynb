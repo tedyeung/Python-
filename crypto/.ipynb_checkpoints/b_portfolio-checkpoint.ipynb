{
 "cells": [
  {
   "cell_type": "code",
   "execution_count": 6,
   "metadata": {
    "collapsed": true
   },
   "outputs": [],
   "source": [
    "# B Cryptos Portfolio\n",
    "import pandas as pd\n",
    "import numpy as np\n",
    "import matplotlib.pyplot as plt\n",
    "%matplotlib inline "
   ]
  },
  {
   "cell_type": "code",
   "execution_count": 1,
   "metadata": {
    "collapsed": true
   },
   "outputs": [],
   "source": [
    "cryptos = {  \n",
    "    \n",
    "  'legend': ['Cryptos_Balance', '01/06/18'],\n",
    "  'trx': [49979, 0.18],\n",
    "  'xlm': [20382, 0.71],\n",
    "  'xem': [10000, 1.62],\n",
    " 'doge': [66948, 0.015],\n",
    "  'xmr': [12, 402.52],\n",
    " 'ada': [4795, 1.02],\n",
    " 'iota': [976, 4.00],\n",
    " 'dcn': [8320000, 0.0025],\n",
    " 'eth': [18, 1011.63],\n",
    " 'rpl': [15500, 2.70],\n",
    " 'btc': [1.01, 17.039]\n",
    "    \n",
    "}  "
   ]
  },
  {
   "cell_type": "code",
   "execution_count": 2,
   "metadata": {},
   "outputs": [
    {
     "name": "stdout",
     "output_type": "stream",
     "text": [
      "Please add Data format MM/DD/YY: 01/07/18\n",
      "Cryto  TRX\n",
      "Add Crypto Price of : 0.17\n",
      "Cryto  XLM\n",
      "Add Crypto Price of : 0.73\n",
      "Cryto  XEM\n",
      "Add Crypto Price of : 1.59\n",
      "Cryto  DOGE\n",
      "Add Crypto Price of : 0.1476\n",
      "Cryto  XMR\n",
      "Add Crypto Price of : 415.86\n",
      "Cryto  ADA\n",
      "Add Crypto Price of : 1.02\n",
      "Cryto  IOTA\n",
      "Add Crypto Price of : 4.00\n",
      "Cryto  DCN\n",
      "Add Crypto Price of : 0.00254\n",
      "Cryto  ETH\n",
      "Add Crypto Price of : 1017.81\n",
      "Cryto  RPL\n",
      "Add Crypto Price of : 2.68\n",
      "Cryto  BTC\n",
      "Add Crypto Price of : 16851.50\n"
     ]
    }
   ],
   "source": [
    "def add_cryptos ():\n",
    "    for n in cryptos:\n",
    "        if 'legend' == n:\n",
    "            date = input('Please add Data format MM/DD/YY: ' )\n",
    "            cryptos[n].append(date)\n",
    "        else: \n",
    "            print('Cryto ', n.upper())\n",
    "            value = float(input('Add Crypto Price of : '))\n",
    "            cryptos[n].append(value)\n",
    "add_cryptos()"
   ]
  },
  {
   "cell_type": "code",
   "execution_count": 3,
   "metadata": {},
   "outputs": [
    {
     "data": {
      "text/plain": [
       "{'ada': [4795, 1.02, 1.02],\n",
       " 'btc': [1.01, 17.039, 16851.5],\n",
       " 'dcn': [8320000, 0.0025, 0.00254],\n",
       " 'doge': [66948, 0.015, 0.1476],\n",
       " 'eth': [18, 1011.63, 1017.81],\n",
       " 'iota': [976, 4.0, 4.0],\n",
       " 'legend': ['Cryptos_Balance', '01/06/18', '01/07/18'],\n",
       " 'rpl': [15500, 2.7, 2.68],\n",
       " 'trx': [49979, 0.18, 0.17],\n",
       " 'xem': [10000, 1.62, 1.59],\n",
       " 'xlm': [20382, 0.71, 0.73],\n",
       " 'xmr': [12, 402.52, 415.86]}"
      ]
     },
     "execution_count": 3,
     "metadata": {},
     "output_type": "execute_result"
    }
   ],
   "source": [
    "cryptos"
   ]
  },
  {
   "cell_type": "code",
   "execution_count": 7,
   "metadata": {},
   "outputs": [],
   "source": [
    "p = pd.DataFrame(data=cryptos)\n",
    "p = p.set_index(['legend'])      "
   ]
  },
  {
   "cell_type": "code",
   "execution_count": 8,
   "metadata": {},
   "outputs": [
    {
     "data": {
      "text/html": [
       "<div>\n",
       "<style>\n",
       "    .dataframe thead tr:only-child th {\n",
       "        text-align: right;\n",
       "    }\n",
       "\n",
       "    .dataframe thead th {\n",
       "        text-align: left;\n",
       "    }\n",
       "\n",
       "    .dataframe tbody tr th {\n",
       "        vertical-align: top;\n",
       "    }\n",
       "</style>\n",
       "<table border=\"1\" class=\"dataframe\">\n",
       "  <thead>\n",
       "    <tr style=\"text-align: right;\">\n",
       "      <th></th>\n",
       "      <th>ada</th>\n",
       "      <th>btc</th>\n",
       "      <th>dcn</th>\n",
       "      <th>doge</th>\n",
       "      <th>eth</th>\n",
       "      <th>iota</th>\n",
       "      <th>rpl</th>\n",
       "      <th>trx</th>\n",
       "      <th>xem</th>\n",
       "      <th>xlm</th>\n",
       "      <th>xmr</th>\n",
       "    </tr>\n",
       "    <tr>\n",
       "      <th>legend</th>\n",
       "      <th></th>\n",
       "      <th></th>\n",
       "      <th></th>\n",
       "      <th></th>\n",
       "      <th></th>\n",
       "      <th></th>\n",
       "      <th></th>\n",
       "      <th></th>\n",
       "      <th></th>\n",
       "      <th></th>\n",
       "      <th></th>\n",
       "    </tr>\n",
       "  </thead>\n",
       "  <tbody>\n",
       "    <tr>\n",
       "      <th>Cryptos_Balance</th>\n",
       "      <td>4795.00</td>\n",
       "      <td>1.010</td>\n",
       "      <td>8.320000e+06</td>\n",
       "      <td>66948.0000</td>\n",
       "      <td>18.00</td>\n",
       "      <td>976.0</td>\n",
       "      <td>15500.00</td>\n",
       "      <td>49979.00</td>\n",
       "      <td>10000.00</td>\n",
       "      <td>20382.00</td>\n",
       "      <td>12.00</td>\n",
       "    </tr>\n",
       "    <tr>\n",
       "      <th>01/06/18</th>\n",
       "      <td>1.02</td>\n",
       "      <td>17.039</td>\n",
       "      <td>2.500000e-03</td>\n",
       "      <td>0.0150</td>\n",
       "      <td>1011.63</td>\n",
       "      <td>4.0</td>\n",
       "      <td>2.70</td>\n",
       "      <td>0.18</td>\n",
       "      <td>1.62</td>\n",
       "      <td>0.71</td>\n",
       "      <td>402.52</td>\n",
       "    </tr>\n",
       "    <tr>\n",
       "      <th>01/07/18</th>\n",
       "      <td>1.02</td>\n",
       "      <td>16851.500</td>\n",
       "      <td>2.540000e-03</td>\n",
       "      <td>0.1476</td>\n",
       "      <td>1017.81</td>\n",
       "      <td>4.0</td>\n",
       "      <td>2.68</td>\n",
       "      <td>0.17</td>\n",
       "      <td>1.59</td>\n",
       "      <td>0.73</td>\n",
       "      <td>415.86</td>\n",
       "    </tr>\n",
       "  </tbody>\n",
       "</table>\n",
       "</div>"
      ],
      "text/plain": [
       "                     ada        btc           dcn        doge      eth   iota  \\\n",
       "legend                                                                          \n",
       "Cryptos_Balance  4795.00      1.010  8.320000e+06  66948.0000    18.00  976.0   \n",
       "01/06/18            1.02     17.039  2.500000e-03      0.0150  1011.63    4.0   \n",
       "01/07/18            1.02  16851.500  2.540000e-03      0.1476  1017.81    4.0   \n",
       "\n",
       "                      rpl       trx       xem       xlm     xmr  \n",
       "legend                                                           \n",
       "Cryptos_Balance  15500.00  49979.00  10000.00  20382.00   12.00  \n",
       "01/06/18             2.70      0.18      1.62      0.71  402.52  \n",
       "01/07/18             2.68      0.17      1.59      0.73  415.86  "
      ]
     },
     "execution_count": 8,
     "metadata": {},
     "output_type": "execute_result"
    }
   ],
   "source": [
    "p"
   ]
  },
  {
   "cell_type": "code",
   "execution_count": 13,
   "metadata": {},
   "outputs": [
    {
     "data": {
      "text/plain": [
       "[<matplotlib.lines.Line2D at 0x116de7ef0>]"
      ]
     },
     "execution_count": 13,
     "metadata": {},
     "output_type": "execute_result"
    },
    {
     "data": {
      "image/png": "[encoded data removed]",
      "text/plain": [
       "<matplotlib.figure.Figure at 0x116be9dd8>"
      ]
     },
     "metadata": {},
     "output_type": "display_data"
    }
   ],
   "source": [
    "plt.plot([2.7,2.86,2.96])\n",
    "plt.plot([4.0, 4.0])\n",
    "plt.plot([0.18, 0.17, 0.25])\n",
    "plt.plot([0.71, 0.73, 0.45])"
   ]
  },
  {
   "cell_type": "code",
   "execution_count": null,
   "metadata": {
    "collapsed": true
   },
   "outputs": [],
   "source": []
  }
 ],
 "metadata": {
  "kernelspec": {
   "display_name": "Python 3",
   "language": "python",
   "name": "python3"
  },
  "language_info": {
   "codemirror_mode": {
    "name": "ipython",
    "version": 3
   },
   "file_extension": ".py",
   "mimetype": "text/x-python",
   "name": "python",
   "nbconvert_exporter": "python",
   "pygments_lexer": "ipython3",
   "version": "3.6.2"
  }
 },
 "nbformat": 4,
 "nbformat_minor": 2
}

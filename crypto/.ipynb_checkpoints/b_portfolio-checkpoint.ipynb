{
 "cells": [
  {
   "cell_type": "code",
   "execution_count": null,
   "metadata": {
    "collapsed": true
   },
   "outputs": [],
   "source": [
    "# B Cryptos Portfolio\n",
    "import pandas as pd\n",
    "import numpy as np\n",
    "import matplotlib.pyplot as plt\n",
    "%matplotlib inline "
   ]
  },
  {
   "cell_type": "code",
   "execution_count": 62,
   "metadata": {},
   "outputs": [
    {
     "name": "stdout",
     "output_type": "stream",
     "text": [
      "legend <class 'str'>\n",
      "trx <class 'str'>\n",
      "xlm <class 'str'>\n",
      "xem <class 'str'>\n",
      "doge <class 'str'>\n",
      "xmr <class 'str'>\n",
      "ada <class 'str'>\n",
      "iota <class 'str'>\n",
      "dcn <class 'str'>\n",
      "eth <class 'str'>\n",
      "rpl <class 'str'>\n",
      "btc <class 'str'>\n"
     ]
    }
   ],
   "source": [
    "cryptos = {  \n",
    "    \n",
    "  'legend': ['Cryptos_Balance', '01/06/18'],\n",
    "  'trx': [49979, 0.18],\n",
    "  'xlm': [20382, 0.71],\n",
    "  'xem': [10000, 1.62],\n",
    " 'doge': [66948, 0.015],\n",
    "  'xmr': [12, 402.52],\n",
    " 'ada': [4795, 1.02],\n",
    " 'iota': [976, 4.00],\n",
    " 'dcn': [8320000, 0.0025],\n",
    " 'eth': [18, 1011.63],\n",
    " 'rpl': [15500, 2.70],\n",
    " 'btc': [1.01, 17.039]\n",
    "    \n",
    "}\n",
    "\n",
    "for n in cryptos:\n",
    "    print(n, type(n))\n",
    "    "
   ]
  },
  {
   "cell_type": "code",
   "execution_count": 60,
   "metadata": {},
   "outputs": [
    {
     "data": {
      "text/plain": [
       "12"
      ]
     },
     "execution_count": 60,
     "metadata": {},
     "output_type": "execute_result"
    }
   ],
   "source": []
  },
  {
   "cell_type": "code",
   "execution_count": null,
   "metadata": {},
   "outputs": [],
   "source": [
    "def add_cryptos ():\n",
    "    for n in cryptos:\n",
    "        if 'legend' == n:\n",
    "            date = input('Please add Data format MM/DD/YY: ' )\n",
    "            cryptos[n].append(date)\n",
    "        else: \n",
    "            value = float(input('Add Crypto Price: '))\n",
    "            cryptos[n].append(value)\n",
    "add_cryptos()"
   ]
  },
  {
   "cell_type": "code",
   "execution_count": 48,
   "metadata": {},
   "outputs": [
    {
     "data": {
      "text/plain": [
       "{'ada': [4795, 1.02],\n",
       " 'btc': [1.01, 17.039],\n",
       " 'dcn': [8320000, 0.0025],\n",
       " 'doge': [66948, 0.015],\n",
       " 'eth': [18, 1011.63],\n",
       " 'iota': [976, 4.0],\n",
       " 'legend': ['Cryptos_Balance', '1/6/18', '01/06/18'],\n",
       " 'rpl': [15500, 2.7],\n",
       " 'trx': [49979, 0.18],\n",
       " 'xem': [10000, 1.62],\n",
       " 'xlm': [20382, 0.71],\n",
       " 'xmr': [12, 402.52]}"
      ]
     },
     "execution_count": 48,
     "metadata": {},
     "output_type": "execute_result"
    }
   ],
   "source": [
    "cryptos"
   ]
  },
  {
   "cell_type": "code",
   "execution_count": 36,
   "metadata": {},
   "outputs": [
    {
     "data": {
      "text/html": [
       "<div>\n",
       "<style>\n",
       "    .dataframe thead tr:only-child th {\n",
       "        text-align: right;\n",
       "    }\n",
       "\n",
       "    .dataframe thead th {\n",
       "        text-align: left;\n",
       "    }\n",
       "\n",
       "    .dataframe tbody tr th {\n",
       "        vertical-align: top;\n",
       "    }\n",
       "</style>\n",
       "<table border=\"1\" class=\"dataframe\">\n",
       "  <thead>\n",
       "    <tr style=\"text-align: right;\">\n",
       "      <th></th>\n",
       "      <th>Balance</th>\n",
       "      <th>ada</th>\n",
       "      <th>btc</th>\n",
       "      <th>dcn</th>\n",
       "      <th>doge</th>\n",
       "      <th>eth</th>\n",
       "      <th>iota</th>\n",
       "      <th>rpl</th>\n",
       "      <th>trx</th>\n",
       "      <th>xem</th>\n",
       "      <th>xlm</th>\n",
       "      <th>xmr</th>\n",
       "    </tr>\n",
       "  </thead>\n",
       "  <tbody>\n",
       "    <tr>\n",
       "      <th>0</th>\n",
       "      <td>Cryptos_Balance</td>\n",
       "      <td>4795.00</td>\n",
       "      <td>1.010</td>\n",
       "      <td>8.320000e+06</td>\n",
       "      <td>66948.000</td>\n",
       "      <td>18.00</td>\n",
       "      <td>976.0</td>\n",
       "      <td>15500.0</td>\n",
       "      <td>49979.00</td>\n",
       "      <td>10000.00</td>\n",
       "      <td>20382.00</td>\n",
       "      <td>12.00</td>\n",
       "    </tr>\n",
       "    <tr>\n",
       "      <th>1</th>\n",
       "      <td>Price</td>\n",
       "      <td>1.02</td>\n",
       "      <td>17.039</td>\n",
       "      <td>2.500000e-03</td>\n",
       "      <td>0.015</td>\n",
       "      <td>1011.63</td>\n",
       "      <td>4.0</td>\n",
       "      <td>2.7</td>\n",
       "      <td>0.18</td>\n",
       "      <td>1.62</td>\n",
       "      <td>0.71</td>\n",
       "      <td>402.52</td>\n",
       "    </tr>\n",
       "  </tbody>\n",
       "</table>\n",
       "</div>"
      ],
      "text/plain": [
       "           Balance      ada     btc           dcn       doge      eth   iota  \\\n",
       "0  Cryptos_Balance  4795.00   1.010  8.320000e+06  66948.000    18.00  976.0   \n",
       "1            Price     1.02  17.039  2.500000e-03      0.015  1011.63    4.0   \n",
       "\n",
       "       rpl       trx       xem       xlm     xmr  \n",
       "0  15500.0  49979.00  10000.00  20382.00   12.00  \n",
       "1      2.7      0.18      1.62      0.71  402.52  "
      ]
     },
     "execution_count": 36,
     "metadata": {},
     "output_type": "execute_result"
    }
   ],
   "source": [
    "p = pd.DataFrame(data=cryptos)\n",
    "p"
   ]
  },
  {
   "cell_type": "code",
   "execution_count": 37,
   "metadata": {},
   "outputs": [],
   "source": [
    "p = p.set_index(['Balance'])      "
   ]
  },
  {
   "cell_type": "code",
   "execution_count": 38,
   "metadata": {},
   "outputs": [
    {
     "data": {
      "text/html": [
       "<div>\n",
       "<style>\n",
       "    .dataframe thead tr:only-child th {\n",
       "        text-align: right;\n",
       "    }\n",
       "\n",
       "    .dataframe thead th {\n",
       "        text-align: left;\n",
       "    }\n",
       "\n",
       "    .dataframe tbody tr th {\n",
       "        vertical-align: top;\n",
       "    }\n",
       "</style>\n",
       "<table border=\"1\" class=\"dataframe\">\n",
       "  <thead>\n",
       "    <tr style=\"text-align: right;\">\n",
       "      <th></th>\n",
       "      <th>ada</th>\n",
       "      <th>btc</th>\n",
       "      <th>dcn</th>\n",
       "      <th>doge</th>\n",
       "      <th>eth</th>\n",
       "      <th>iota</th>\n",
       "      <th>rpl</th>\n",
       "      <th>trx</th>\n",
       "      <th>xem</th>\n",
       "      <th>xlm</th>\n",
       "      <th>xmr</th>\n",
       "    </tr>\n",
       "    <tr>\n",
       "      <th>Balance</th>\n",
       "      <th></th>\n",
       "      <th></th>\n",
       "      <th></th>\n",
       "      <th></th>\n",
       "      <th></th>\n",
       "      <th></th>\n",
       "      <th></th>\n",
       "      <th></th>\n",
       "      <th></th>\n",
       "      <th></th>\n",
       "      <th></th>\n",
       "    </tr>\n",
       "  </thead>\n",
       "  <tbody>\n",
       "    <tr>\n",
       "      <th>Cryptos_Balance</th>\n",
       "      <td>4795.00</td>\n",
       "      <td>1.010</td>\n",
       "      <td>8.320000e+06</td>\n",
       "      <td>66948.000</td>\n",
       "      <td>18.00</td>\n",
       "      <td>976.0</td>\n",
       "      <td>15500.0</td>\n",
       "      <td>49979.00</td>\n",
       "      <td>10000.00</td>\n",
       "      <td>20382.00</td>\n",
       "      <td>12.00</td>\n",
       "    </tr>\n",
       "    <tr>\n",
       "      <th>Price</th>\n",
       "      <td>1.02</td>\n",
       "      <td>17.039</td>\n",
       "      <td>2.500000e-03</td>\n",
       "      <td>0.015</td>\n",
       "      <td>1011.63</td>\n",
       "      <td>4.0</td>\n",
       "      <td>2.7</td>\n",
       "      <td>0.18</td>\n",
       "      <td>1.62</td>\n",
       "      <td>0.71</td>\n",
       "      <td>402.52</td>\n",
       "    </tr>\n",
       "  </tbody>\n",
       "</table>\n",
       "</div>"
      ],
      "text/plain": [
       "                     ada     btc           dcn       doge      eth   iota  \\\n",
       "Balance                                                                     \n",
       "Cryptos_Balance  4795.00   1.010  8.320000e+06  66948.000    18.00  976.0   \n",
       "Price               1.02  17.039  2.500000e-03      0.015  1011.63    4.0   \n",
       "\n",
       "                     rpl       trx       xem       xlm     xmr  \n",
       "Balance                                                         \n",
       "Cryptos_Balance  15500.0  49979.00  10000.00  20382.00   12.00  \n",
       "Price                2.7      0.18      1.62      0.71  402.52  "
      ]
     },
     "execution_count": 38,
     "metadata": {},
     "output_type": "execute_result"
    }
   ],
   "source": [
    "p"
   ]
  },
  {
   "cell_type": "code",
   "execution_count": null,
   "metadata": {
    "collapsed": true
   },
   "outputs": [],
   "source": [
    "crypto_price = float('Please add crypto price ')\n",
    "def crypto_calculator():\n",
    "    "
   ]
  }
 ],
 "metadata": {
  "kernelspec": {
   "display_name": "Python 3",
   "language": "python",
   "name": "python3"
  },
  "language_info": {
   "codemirror_mode": {
    "name": "ipython",
    "version": 3
   },
   "file_extension": ".py",
   "mimetype": "text/x-python",
   "name": "python",
   "nbconvert_exporter": "python",
   "pygments_lexer": "ipython3",
   "version": "3.6.2"
  }
 },
 "nbformat": 4,
 "nbformat_minor": 2
}

{
 "cells": [
  {
   "cell_type": "code",
   "execution_count": 1,
   "metadata": {
    "collapsed": true
   },
   "outputs": [],
   "source": [
    "# B Crypto Portfolio"
   ]
  },
  {
   "cell_type": "code",
   "execution_count": null,
   "metadata": {
    "collapsed": true
   },
   "outputs": [],
   "source": [
    "b_portfolio = { \n",
    "    \n",
    "  'trx' = 49979,\n",
    "  'xlm' = 20382,\n",
    "  'xem' = 10000,\n",
    " 'doge' = 66948,\n",
    "  'xmr' = 12,\n",
    " 'ada' = 4795,\n",
    " 'iota' = 976,\n",
    " 'dcn' = 8320000,\n",
    " 'eth' = 18,\n",
    " 'rpl' = 15500,\n",
    " 'btc' = 1.01\n",
    "    \n",
    "}"
   ]
  }
 ],
 "metadata": {
  "kernelspec": {
   "display_name": "Python 3",
   "language": "python",
   "name": "python3"
  },
  "language_info": {
   "codemirror_mode": {
    "name": "ipython",
    "version": 3
   },
   "file_extension": ".py",
   "mimetype": "text/x-python",
   "name": "python",
   "nbconvert_exporter": "python",
   "pygments_lexer": "ipython3",
   "version": "3.6.3"
  }
 },
 "nbformat": 4,
 "nbformat_minor": 2
}

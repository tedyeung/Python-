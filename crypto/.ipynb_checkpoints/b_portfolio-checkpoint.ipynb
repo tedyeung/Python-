{
 "cells": [
  {
   "cell_type": "code",
   "execution_count": 7,
   "metadata": {
    "collapsed": true
   },
   "outputs": [],
   "source": [
    "# B Crypto Portfolio\n",
    "import pandas as pd\n",
    "import numpy as np\n",
    "import matplotlib.pyplot as plt\n",
    "%matplotlib inline "
   ]
  },
  {
   "cell_type": "code",
   "execution_count": 24,
   "metadata": {},
   "outputs": [
    {
     "data": {
      "text/plain": [
       "1.01"
      ]
     },
     "execution_count": 24,
     "metadata": {},
     "output_type": "execute_result"
    }
   ],
   "source": [
    "cryptos = {  \n",
    "  'balance': ['Cryptos_value'],\n",
    "  'trx': [49979],\n",
    "  'xlm': [20382],\n",
    "  'xem': [10000],\n",
    " 'doge': [66948],\n",
    "  'xmr': [12],\n",
    " 'ada': [4795],\n",
    " 'iota': [976],\n",
    " 'dcn': [8320000],\n",
    " 'eth': [18],\n",
    " 'rpl': [15500],\n",
    " 'btc': [1.01]\n",
    "    \n",
    "}\n",
    "\n",
    "cryptos['btc'][0]"
   ]
  },
  {
   "cell_type": "code",
   "execution_count": 25,
   "metadata": {},
   "outputs": [
    {
     "data": {
      "text/html": [
       "<div>\n",
       "<style>\n",
       "    .dataframe thead tr:only-child th {\n",
       "        text-align: right;\n",
       "    }\n",
       "\n",
       "    .dataframe thead th {\n",
       "        text-align: left;\n",
       "    }\n",
       "\n",
       "    .dataframe tbody tr th {\n",
       "        vertical-align: top;\n",
       "    }\n",
       "</style>\n",
       "<table border=\"1\" class=\"dataframe\">\n",
       "  <thead>\n",
       "    <tr style=\"text-align: right;\">\n",
       "      <th></th>\n",
       "      <th>ada</th>\n",
       "      <th>balance</th>\n",
       "      <th>btc</th>\n",
       "      <th>dcn</th>\n",
       "      <th>doge</th>\n",
       "      <th>eth</th>\n",
       "      <th>iota</th>\n",
       "      <th>rpl</th>\n",
       "      <th>trx</th>\n",
       "      <th>xem</th>\n",
       "      <th>xlm</th>\n",
       "      <th>xmr</th>\n",
       "    </tr>\n",
       "  </thead>\n",
       "  <tbody>\n",
       "    <tr>\n",
       "      <th>0</th>\n",
       "      <td>4795</td>\n",
       "      <td>Cryptos_value</td>\n",
       "      <td>1.01</td>\n",
       "      <td>8320000</td>\n",
       "      <td>66948</td>\n",
       "      <td>18</td>\n",
       "      <td>976</td>\n",
       "      <td>15500</td>\n",
       "      <td>49979</td>\n",
       "      <td>10000</td>\n",
       "      <td>20382</td>\n",
       "      <td>12</td>\n",
       "    </tr>\n",
       "  </tbody>\n",
       "</table>\n",
       "</div>"
      ],
      "text/plain": [
       "    ada        balance   btc      dcn   doge  eth  iota    rpl    trx    xem  \\\n",
       "0  4795  Cryptos_value  1.01  8320000  66948   18   976  15500  49979  10000   \n",
       "\n",
       "     xlm  xmr  \n",
       "0  20382   12  "
      ]
     },
     "execution_count": 25,
     "metadata": {},
     "output_type": "execute_result"
    }
   ],
   "source": [
    "p = pd.DataFrame(data=cryptos)\n",
    "p"
   ]
  },
  {
   "cell_type": "code",
   "execution_count": 28,
   "metadata": {},
   "outputs": [],
   "source": [
    "p = p.set_index(['balance'])      "
   ]
  },
  {
   "cell_type": "code",
   "execution_count": 29,
   "metadata": {},
   "outputs": [
    {
     "data": {
      "text/html": [
       "<div>\n",
       "<style>\n",
       "    .dataframe thead tr:only-child th {\n",
       "        text-align: right;\n",
       "    }\n",
       "\n",
       "    .dataframe thead th {\n",
       "        text-align: left;\n",
       "    }\n",
       "\n",
       "    .dataframe tbody tr th {\n",
       "        vertical-align: top;\n",
       "    }\n",
       "</style>\n",
       "<table border=\"1\" class=\"dataframe\">\n",
       "  <thead>\n",
       "    <tr style=\"text-align: right;\">\n",
       "      <th></th>\n",
       "      <th>ada</th>\n",
       "      <th>btc</th>\n",
       "      <th>dcn</th>\n",
       "      <th>doge</th>\n",
       "      <th>eth</th>\n",
       "      <th>iota</th>\n",
       "      <th>rpl</th>\n",
       "      <th>trx</th>\n",
       "      <th>xem</th>\n",
       "      <th>xlm</th>\n",
       "      <th>xmr</th>\n",
       "    </tr>\n",
       "    <tr>\n",
       "      <th>balance</th>\n",
       "      <th></th>\n",
       "      <th></th>\n",
       "      <th></th>\n",
       "      <th></th>\n",
       "      <th></th>\n",
       "      <th></th>\n",
       "      <th></th>\n",
       "      <th></th>\n",
       "      <th></th>\n",
       "      <th></th>\n",
       "      <th></th>\n",
       "    </tr>\n",
       "  </thead>\n",
       "  <tbody>\n",
       "    <tr>\n",
       "      <th>Cryptos_value</th>\n",
       "      <td>4795</td>\n",
       "      <td>1.01</td>\n",
       "      <td>8320000</td>\n",
       "      <td>66948</td>\n",
       "      <td>18</td>\n",
       "      <td>976</td>\n",
       "      <td>15500</td>\n",
       "      <td>49979</td>\n",
       "      <td>10000</td>\n",
       "      <td>20382</td>\n",
       "      <td>12</td>\n",
       "    </tr>\n",
       "  </tbody>\n",
       "</table>\n",
       "</div>"
      ],
      "text/plain": [
       "                ada   btc      dcn   doge  eth  iota    rpl    trx    xem  \\\n",
       "balance                                                                     \n",
       "Cryptos_value  4795  1.01  8320000  66948   18   976  15500  49979  10000   \n",
       "\n",
       "                 xlm  xmr  \n",
       "balance                    \n",
       "Cryptos_value  20382   12  "
      ]
     },
     "execution_count": 29,
     "metadata": {},
     "output_type": "execute_result"
    }
   ],
   "source": [
    "p"
   ]
  },
  {
   "cell_type": "code",
   "execution_count": null,
   "metadata": {
    "collapsed": true
   },
   "outputs": [],
   "source": []
  }
 ],
 "metadata": {
  "kernelspec": {
   "display_name": "Python 3",
   "language": "python",
   "name": "python3"
  },
  "language_info": {
   "codemirror_mode": {
    "name": "ipython",
    "version": 3
   },
   "file_extension": ".py",
   "mimetype": "text/x-python",
   "name": "python",
   "nbconvert_exporter": "python",
   "pygments_lexer": "ipython3",
   "version": "3.6.2"
  }
 },
 "nbformat": 4,
 "nbformat_minor": 2
}

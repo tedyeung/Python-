{
 "cells": [
  {
   "cell_type": "code",
   "execution_count": 2,
   "metadata": {
    "collapsed": true
   },
   "outputs": [],
   "source": [
    "# BitCoin Calculator"
   ]
  },
  {
   "cell_type": "code",
   "execution_count": 3,
   "metadata": {},
   "outputs": [
    {
     "name": "stdout",
     "output_type": "stream",
     "text": [
      "Please add bitcoin price in dollars: 16500\n",
      "Please add cryto value in BTC: 3\n"
     ]
    },
    {
     "data": {
      "text/plain": [
       "0.22275"
      ]
     },
     "execution_count": 3,
     "metadata": {},
     "output_type": "execute_result"
    }
   ],
   "source": [
    "btc = float(input('Please add bitcoin price in dollars: '))\n",
    "c_value = float(input('Please add cryto value in BTC: '))\n",
    "\n",
    "def bit(crypto):\n",
    "    new_crypto_price = crypto * btc\n",
    "    return new_crypto_price\n",
    "\n",
    "def dollar (crypto):\n",
    "    dollar_price = crypto * bit(c_value) \n",
    "    return dollar_price\n",
    "\n",
    "dcn = dollar(0.00000450)\n",
    "dcn "
   ]
  },
  {
   "cell_type": "code",
   "execution_count": 1,
   "metadata": {},
   "outputs": [
    {
     "ename": "NameError",
     "evalue": "name 'bit' is not defined",
     "output_type": "error",
     "traceback": [
      "\u001b[0;31m---------------------------------------------------------------------------\u001b[0m",
      "\u001b[0;31mNameError\u001b[0m                                 Traceback (most recent call last)",
      "\u001b[0;32m<ipython-input-1-bd07b381e0bd>\u001b[0m in \u001b[0;36m<module>\u001b[0;34m()\u001b[0m\n\u001b[0;32m----> 1\u001b[0;31m \u001b[0mltc_price\u001b[0m \u001b[0;34m=\u001b[0m \u001b[0mbit\u001b[0m\u001b[0;34m(\u001b[0m\u001b[0;36m0.01566959\u001b[0m\u001b[0;34m)\u001b[0m\u001b[0;34m\u001b[0m\u001b[0m\n\u001b[0m\u001b[1;32m      2\u001b[0m \u001b[0mdcn\u001b[0m \u001b[0;34m=\u001b[0m \u001b[0mltc_price\u001b[0m \u001b[0;34m*\u001b[0m \u001b[0;36m0.00000450\u001b[0m\u001b[0;34m\u001b[0m\u001b[0m\n\u001b[1;32m      3\u001b[0m \u001b[0mdcn\u001b[0m\u001b[0;34m\u001b[0m\u001b[0m\n",
      "\u001b[0;31mNameError\u001b[0m: name 'bit' is not defined"
     ]
    }
   ],
   "source": [
    "ltc_price = bit(0.01566959)\n",
    "dcn = ltc_price * 0.00000450\n",
    "dcn"
   ]
  },
  {
   "cell_type": "code",
   "execution_count": 4,
   "metadata": {},
   "outputs": [
    {
     "data": {
      "text/plain": [
       "6"
      ]
     },
     "execution_count": 4,
     "metadata": {},
     "output_type": "execute_result"
    }
   ],
   "source": [
    "# Crypto_Valute\n",
    "\n",
    "trx = 49979\n",
    "xlm = 20382\n",
    "xem = 10000\n",
    "doge = 66948\n",
    "monero = 12\n",
    "ada = 4795\n",
    "iota = 976\n",
    "dcn = 8320000\n",
    "eth = 18\n",
    "rpl = 15500\n",
    "btc = 1.01"
   ]
  },
  {
   "cell_type": "code",
   "execution_count": null,
   "metadata": {},
   "outputs": [],
   "source": [
    "p = float(input('Add price: '))\n",
    "c = float(input('Add crypto: '))\n",
    "l = []\n",
    "def dollars (price, crypto):\n",
    "    d = p * c\n",
    "    return d\n",
    "\n",
    "print(def(p,c))"
   ]
  },
  {
   "cell_type": "code",
   "execution_count": null,
   "metadata": {
    "collapsed": true
   },
   "outputs": [],
   "source": [
    "p = float(input('Add price: '))\n",
    "c = float(input('Add crypto: '))\n",
    "l = []\n",
    "def dollars (price, crypto):\n",
    "    d = p * c\n",
    "    return d\n",
    "\n",
    "print(def(p,c))"
   ]
  },
  {
   "cell_type": "code",
   "execution_count": null,
   "metadata": {
    "collapsed": true
   },
   "outputs": [],
   "source": []
  }
 ],
 "metadata": {
  "kernelspec": {
   "display_name": "Python 3",
   "language": "python",
   "name": "python3"
  },
  "language_info": {
   "codemirror_mode": {
    "name": "ipython",
    "version": 3
   },
   "file_extension": ".py",
   "mimetype": "text/x-python",
   "name": "python",
   "nbconvert_exporter": "python",
   "pygments_lexer": "ipython3",
   "version": "3.6.3"
  }
 },
 "nbformat": 4,
 "nbformat_minor": 2
}

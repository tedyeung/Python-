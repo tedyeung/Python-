{
 "cells": [
  {
   "cell_type": "code",
   "execution_count": 1,
   "metadata": {
    "collapsed": true
   },
   "outputs": [],
   "source": [
    "# BitCoin Calculator"
   ]
  },
  {
   "cell_type": "code",
   "execution_count": 11,
   "metadata": {},
   "outputs": [
    {
     "name": "stdout",
     "output_type": "stream",
     "text": [
      "Please add bitcoin price in dollars: 16000\n",
      "Please add cryto value in BTC: 0.01666959\n"
     ]
    },
    {
     "data": {
      "text/plain": [
       "0.0012002104800000002"
      ]
     },
     "execution_count": 11,
     "metadata": {},
     "output_type": "execute_result"
    }
   ],
   "source": [
    "btc = float(input('Please add bitcoin price in dollars: '))\n",
    "c_value = float(input('Please add cryto value in BTC: '))\n",
    "\n",
    "def bit(crypto):\n",
    "    new_crypto_price = crypto * btc\n",
    "    return new_crypto_price\n",
    "\n",
    "def dollar (crypto):\n",
    "    dollar_price = crypto * bit(c_value) \n",
    "    return dollar_price\n",
    "\n",
    "dcn = dollar(0.00000450)\n",
    "dcn "
   ]
  },
  {
   "cell_type": "code",
   "execution_count": null,
   "metadata": {
    "collapsed": true
   },
   "outputs": [],
   "source": [
    "ltc_price = bit(0.01566959)\n",
    "dcn = ltc_price * 0.00000450\n",
    "dcn"
   ]
  }
 ],
 "metadata": {
  "kernelspec": {
   "display_name": "Python 3",
   "language": "python",
   "name": "python3"
  },
  "language_info": {
   "codemirror_mode": {
    "name": "ipython",
    "version": 3
   },
   "file_extension": ".py",
   "mimetype": "text/x-python",
   "name": "python",
   "nbconvert_exporter": "python",
   "pygments_lexer": "ipython3",
   "version": "3.6.3"
  }
 },
 "nbformat": 4,
 "nbformat_minor": 2
}

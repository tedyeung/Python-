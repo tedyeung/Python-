{
 "cells": [
  {
   "cell_type": "code",
   "execution_count": 1,
   "metadata": {},
   "outputs": [
    {
     "data": {
      "text/plain": [
       "'petar'"
      ]
     },
     "execution_count": 1,
     "metadata": {},
     "output_type": "execute_result"
    }
   ],
   "source": [
    "import random\n",
    "\n",
    "random.choice(['slavo', 'nenad', 'petar', 'marko'])"
   ]
  },
  {
   "cell_type": "code",
   "execution_count": 4,
   "metadata": {},
   "outputs": [
    {
     "data": {
      "text/plain": [
       "0.2637889531694887"
      ]
     },
     "execution_count": 4,
     "metadata": {},
     "output_type": "execute_result"
    }
   ],
   "source": [
    "import random as rd\n",
    "\n",
    "rd.random()"
   ]
  },
  {
   "cell_type": "code",
   "execution_count": 5,
   "metadata": {},
   "outputs": [
    {
     "data": {
      "text/plain": [
       "'slavo'"
      ]
     },
     "execution_count": 5,
     "metadata": {},
     "output_type": "execute_result"
    }
   ],
   "source": [
    "from random import choice \n",
    "\n",
    "choice(['slavo', 'nenad', 'petar', 'marko'])"
   ]
  },
  {
   "cell_type": "code",
   "execution_count": 6,
   "metadata": {},
   "outputs": [
    {
     "data": {
      "text/plain": [
       "123.0"
      ]
     },
     "execution_count": 6,
     "metadata": {},
     "output_type": "execute_result"
    }
   ],
   "source": [
    "'''\n",
    "Built In Modules Exercise\n",
    "It's time to get some practice with built-in modules.\n",
    "Here's your mission\n",
    "'''\n",
    "from math import sqrt \n",
    "\n",
    "sqrt(15129)"
   ]
  },
  {
   "cell_type": "code",
   "execution_count": null,
   "metadata": {},
   "outputs": [],
   "source": [
    "'''\n",
    "Built-In Modules: \n",
    "Slightly Tougher Challenge\n",
    "Define a function called contains_keyword \n",
    "that accepts any number of string arguments. \n",
    "It should return True  if any of the arguments\n",
    "are considered Python keywords (things like \"def\", \n",
    "\"return\", \"if\", etc.)  Otherwise it should return False.  \n",
    "Python has a built-in module called keyword\n",
    "that contains a method called iskeyword .  \n",
    "Import keyword  and then use keyword.iskeyword \n",
    "in you own function to determine\n",
    "if a given string is a keyword.\n",
    "\n",
    "'''\n",
    "\n",
    "contains_keyword(\"hello\", \"goodbye\")"
   ]
  }
 ],
 "metadata": {
  "kernelspec": {
   "display_name": "Python 3",
   "language": "python",
   "name": "python3"
  },
  "language_info": {
   "codemirror_mode": {
    "name": "ipython",
    "version": 3
   },
   "file_extension": ".py",
   "mimetype": "text/x-python",
   "name": "python",
   "nbconvert_exporter": "python",
   "pygments_lexer": "ipython3",
   "version": "3.6.4"
  }
 },
 "nbformat": 4,
 "nbformat_minor": 2
}

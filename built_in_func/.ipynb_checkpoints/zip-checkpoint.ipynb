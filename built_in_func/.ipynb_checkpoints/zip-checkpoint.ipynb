{
 "cells": [
  {
   "cell_type": "code",
   "execution_count": 7,
   "metadata": {},
   "outputs": [],
   "source": [
    "'''\n",
    "zip() -\n",
    "\n",
    "Makes an iterator that aggregates elements from each of the iterables\n",
    "Returns an iterator of tuples, where the /-th tuple contains the /-th \n",
    "element from each of the argument sequences or iterables\n",
    "The iterator stops when the shortest input iterable is exhausted.\n",
    "'''\n",
    "\n",
    "first_zip = zip([1,2,3],[4,5,6])\n",
    "sec_zip = zip([1,2,3],[4,5,6])"
   ]
  },
  {
   "cell_type": "code",
   "execution_count": 8,
   "metadata": {},
   "outputs": [
    {
     "data": {
      "text/plain": [
       "[(1, 4), (2, 5), (3, 6)]"
      ]
     },
     "execution_count": 8,
     "metadata": {},
     "output_type": "execute_result"
    }
   ],
   "source": [
    "list(first_zip)"
   ]
  },
  {
   "cell_type": "code",
   "execution_count": 9,
   "metadata": {},
   "outputs": [
    {
     "data": {
      "text/plain": [
       "{1: 4, 2: 5, 3: 6}"
      ]
     },
     "execution_count": 9,
     "metadata": {},
     "output_type": "execute_result"
    }
   ],
   "source": [
    "dict(sec_zip)"
   ]
  },
  {
   "cell_type": "code",
   "execution_count": 13,
   "metadata": {},
   "outputs": [
    {
     "data": {
      "text/plain": [
       "[(1, 2, 3, 4, 5, 6), ('a', 'b', 'c', 'd', 'e', 'f')]"
      ]
     },
     "execution_count": 13,
     "metadata": {},
     "output_type": "execute_result"
    }
   ],
   "source": [
    "# unpack things \n",
    "five_by_two = [(1, 'a'), (2, 'b'), (3, 'c'), (4, 'd'), (5, 'e'), (6, 'f')]\n",
    "list(zip(*five_by_two))"
   ]
  },
  {
   "cell_type": "code",
   "execution_count": 14,
   "metadata": {},
   "outputs": [
    {
     "data": {
      "text/plain": [
       "'lizard'"
      ]
     },
     "execution_count": 14,
     "metadata": {},
     "output_type": "execute_result"
    }
   ],
   "source": [
    "'''\n",
    "Interleaving Strings (kind of tough!)\n",
    "\n",
    "\n",
    "Write a function interleave  that\n",
    "accepts two strings.  It should return \n",
    "a new string containing the 2 strings \n",
    "interwoven or zipped together. For example:\n",
    "'''\n",
    "\n",
    "def interleave(str1,str2):\n",
    "    return ''.join(''.join(x) for x in (zip(str1,str2)))\n",
    "\n",
    "interleave('lzr','iad')"
   ]
  },
  {
   "cell_type": "code",
   "execution_count": 18,
   "metadata": {},
   "outputs": [
    {
     "data": {
      "text/plain": [
       "[('l', 'i'), ('z', 'a'), ('r', 'd')]"
      ]
     },
     "execution_count": 18,
     "metadata": {},
     "output_type": "execute_result"
    }
   ],
   "source": [
    "t = list(zip('lzr','iad'))\n",
    "t"
   ]
  },
  {
   "cell_type": "code",
   "execution_count": 27,
   "metadata": {},
   "outputs": [
    {
     "data": {
      "text/plain": [
       "'lizard'"
      ]
     },
     "execution_count": 27,
     "metadata": {},
     "output_type": "execute_result"
    }
   ],
   "source": [
    "p = []\n",
    "for x in t:\n",
    "    g = ''.join(x)\n",
    "    p.append(g)\n",
    "    \n",
    "p\n",
    "    \n",
    "''.join(p)"
   ]
  },
  {
   "cell_type": "code",
   "execution_count": 31,
   "metadata": {},
   "outputs": [
    {
     "name": "stdout",
     "output_type": "stream",
     "text": [
      "[24, 36]\n",
      "[12]\n"
     ]
    }
   ],
   "source": [
    "'''\n",
    "triple_and_filter\n",
    "Write a function called triple_and_filter. \n",
    "This function should accept a list of numbers, \n",
    "filter out every number that is not divisible by 4,\n",
    "and return a new list where every remaining number is tripled.\n",
    "'''\n",
    "def triple_and_filter(l):\n",
    "    return list(map(lambda x: x*3 ,list(filter(lambda x: x % 4 == 0, l))))\n",
    "    \n",
    "print(triple_and_filter([6,8,10,12]))\n",
    "print(triple_and_filter([1,2,3,4]))"
   ]
  },
  {
   "cell_type": "code",
   "execution_count": 33,
   "metadata": {},
   "outputs": [
    {
     "data": {
      "text/plain": [
       "['Elie Schoppik', 'Colt Steele', 'Slavo Popovic']"
      ]
     },
     "execution_count": 33,
     "metadata": {},
     "output_type": "execute_result"
    }
   ],
   "source": [
    "'''\n",
    "extract_full_name\n",
    "Write a function called extract_full_name. \n",
    "This function should accept a \n",
    "list of dictionaries and return a \n",
    "new list of strings with the first and last \n",
    "name keys in each dictionary concatenated.\n",
    "'''\n",
    "\n",
    "\n",
    "names = [{'first': 'Elie', 'last': 'Schoppik'}, {'first': 'Colt', \n",
    "'last': 'Steele'}, {'first': 'Slavo', 'last': 'Popovic'}]\n",
    "def extract_full_name(l):\n",
    "    return list(map(lambda val: \"{} {}\".format(val['first'], val['last']), l))\n",
    "extract_full_name(names)"
   ]
  }
 ],
 "metadata": {
  "kernelspec": {
   "display_name": "Python 3",
   "language": "python",
   "name": "python3"
  },
  "language_info": {
   "codemirror_mode": {
    "name": "ipython",
    "version": 3
   },
   "file_extension": ".py",
   "mimetype": "text/x-python",
   "name": "python",
   "nbconvert_exporter": "python",
   "pygments_lexer": "ipython3",
   "version": "3.6.4"
  }
 },
 "nbformat": 4,
 "nbformat_minor": 2
}

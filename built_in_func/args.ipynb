{
 "cells": [
  {
   "cell_type": "code",
   "execution_count": 3,
   "metadata": {},
   "outputs": [
    {
     "name": "stdout",
     "output_type": "stream",
     "text": [
      "(3, 4, 5)\n"
     ]
    }
   ],
   "source": [
    "def args_func(*args):\n",
    "    print(args)\n",
    "\n",
    "args_func(3,4,5)"
   ]
  },
  {
   "cell_type": "code",
   "execution_count": 8,
   "metadata": {},
   "outputs": [
    {
     "data": {
      "text/plain": [
       "10"
      ]
     },
     "execution_count": 8,
     "metadata": {},
     "output_type": "execute_result"
    }
   ],
   "source": [
    "def sum_num(*args):\n",
    "    res = 0\n",
    "    for num in args:\n",
    "        res += num\n",
    "        \n",
    "    return res\n",
    "\n",
    "sum_num(1,2,3,4)"
   ]
  },
  {
   "cell_type": "code",
   "execution_count": 9,
   "metadata": {},
   "outputs": [
    {
     "data": {
      "text/plain": [
       "True"
      ]
     },
     "execution_count": 9,
     "metadata": {},
     "output_type": "execute_result"
    }
   ],
   "source": [
    "# *args Exercise: The Purple Test\n",
    "'''\n",
    "Define a function contains_purple that accepts any number of arguments. \n",
    "It should return True  \n",
    "if any of the arguments \n",
    "are \"purple\" (all lowercase). Otherwise, \n",
    "it should return False .  For example:\n",
    "'''\n",
    "\n",
    "def contains_purple(*args):\n",
    "    if 'purple' in args:\n",
    "        return True \n",
    "    else:\n",
    "        return False \n",
    "    \n",
    "contains_purple(25, \"purple\")\n"
   ]
  },
  {
   "cell_type": "code",
   "execution_count": 10,
   "metadata": {},
   "outputs": [
    {
     "data": {
      "text/plain": [
       "False"
      ]
     },
     "execution_count": 10,
     "metadata": {},
     "output_type": "execute_result"
    }
   ],
   "source": [
    "contains_purple(\"green\", False, 37, \"blue\", \"hello world\") "
   ]
  },
  {
   "cell_type": "code",
   "execution_count": 11,
   "metadata": {},
   "outputs": [
    {
     "data": {
      "text/plain": [
       "False"
      ]
     },
     "execution_count": 11,
     "metadata": {},
     "output_type": "execute_result"
    }
   ],
   "source": [
    "def contains_purple(*args):\n",
    "    if \"purple\" in args: return True\n",
    "    return False\n",
    "\n",
    "contains_purple(\"green\", False, 37, \"blue\", \"hello world\")"
   ]
  },
  {
   "cell_type": "code",
   "execution_count": 16,
   "metadata": {},
   "outputs": [
    {
     "name": "stdout",
     "output_type": "stream",
     "text": [
      "{'name': 'Slavo', 'age': '36', 'skills': ['Python', 'JavaScript'], 'job': 'Software Developer'}\n"
     ]
    }
   ],
   "source": [
    "# **kwargs\n",
    "\n",
    "def dic_example(**kwargs):\n",
    "    print(kwargs)\n",
    "    \n",
    "dic_example(name='Slavo', age ='36', skills = [\"Python\", \"JavaScript\"], job = 'Software Developer')"
   ]
  },
  {
   "cell_type": "code",
   "execution_count": 23,
   "metadata": {},
   "outputs": [
    {
     "name": "stdout",
     "output_type": "stream",
     "text": [
      "Slavo is doing Python\n",
      "Dragan is doing Java\n",
      "Nemanja is doing JavaScript\n"
     ]
    }
   ],
   "source": [
    "# f string \n",
    "def dic_test (**kwargs):\n",
    "    for person, language in kwargs.items():\n",
    "        print(f\"{person} is doing {language}\")\n",
    "dic_test (Slavo = 'Python', Dragan = 'Java', Nemanja = 'JavaScript' )"
   ]
  },
  {
   "cell_type": "code",
   "execution_count": 28,
   "metadata": {},
   "outputs": [
    {
     "data": {
      "text/plain": [
       "'homework'"
      ]
     },
     "execution_count": 28,
     "metadata": {},
     "output_type": "execute_result"
    }
   ],
   "source": [
    "# **kwargs Exercise\n",
    "# Note: for this exercise, make use of **kwargs.  No default parameters allowed!\n",
    "'''\n",
    "Write a function called combine_words  which accepts a single string called word \n",
    "and any number of additional key word arguments.  \n",
    "If a prefix is provided, return the prefix followed by the word.  \n",
    "If a suffix is provided, return the word followed by the suffix. \n",
    "If neither is provided, just return the word. \n",
    "It might sound confusing,\n",
    "but the examples should make this a lot clearer!\n",
    "'''    \n",
    "\n",
    "def combine_words(word,**kwargs):\n",
    "    if 'prefix' in kwargs:\n",
    "        return kwargs['prefix'] + word\n",
    "    elif 'suffix' in kwargs:\n",
    "        return word + kwargs['suffix']\n",
    "    return word \n",
    "combine_words(\"work\", prefix=\"home\")"
   ]
  },
  {
   "cell_type": "code",
   "execution_count": 31,
   "metadata": {},
   "outputs": [
    {
     "data": {
      "text/plain": [
       "10"
      ]
     },
     "execution_count": 31,
     "metadata": {},
     "output_type": "execute_result"
    }
   ],
   "source": [
    "# tuple unpacking\n",
    "\n",
    "def sum_num(*args):\n",
    "    res = 0\n",
    "    for num in args:\n",
    "        res += num\n",
    "        \n",
    "    return res\n",
    "nums = [1,2,3,4]\n",
    "# sum_num(nums TypeError: unsupported operand type(s) for +=: 'int' and 'list'\n",
    "\n",
    "sum_num(*nums)\n"
   ]
  },
  {
   "cell_type": "code",
   "execution_count": 42,
   "metadata": {},
   "outputs": [
    {
     "name": "stdout",
     "output_type": "stream",
     "text": [
      "Welcome, Slavo Popovic\n"
     ]
    }
   ],
   "source": [
    "# Dictionary Unpacking\n",
    "\n",
    "def full_name(first, last):\n",
    "    print(f\"Welcome, {first} {last}\")\n",
    " \n",
    "names = {\"first\": \"Slavo\", \"last\":'Popovic'}\n",
    "# full_name(names) SyntaxError: invalid syntax\n",
    "\n",
    "full_name(**names)\n"
   ]
  },
  {
   "cell_type": "code",
   "execution_count": null,
   "metadata": {},
   "outputs": [],
   "source": [
    "# calculate\n",
    "'''\n",
    "\n",
    "Oh boy, this is a complicated set of instructors. \n",
    "Bear with me. Write a function called calculate that accepts a list of keyword arguments\n",
    "\n",
    "make_float , a boolean which returns a float if True or an integer if False.\n",
    "operation which is either 'add', 'subtract', 'multiply', and 'divide'. \n",
    "first which is a number, second , which is another number, and message which is a string that can be added.\n",
    "The function should return the result of actually running the specified \n",
    "operation with the first and second keyword arguments. The result of the operation with the first \n",
    "and second  is an integer if the make_float  keyword argument is False , otherwise the result of\n",
    "the operation is a float. If a message is specified, it should return the message keyword argument + \n",
    "the result of the operation.  Otherwise, it should return the string  \n",
    "\"The result is \" joined with the result of the operation\n",
    "\n",
    "'''\n",
    "def calculate(**kwargs):\n",
    "    operation_lookup = {\n",
    "        'add': kwargs.get('first', 0) + kwargs.get('second', 0),\n",
    "        'subtract': kwargs.get('first', 0) - kwargs.get('second', 0),\n",
    "        'divide': kwargs.get('first', 0) / kwargs.get('second', 0),\n",
    "        'multiply': kwargs.get('first', 0) / kwargs.get('second', 0)\n",
    "    }\n",
    "    is_float = kwargs.get('make_float', False)\n",
    "    operation_value = operation_lookup[kwargs.get('operation', '')]\n",
    "    if is_float:\n",
    "        final = \"{} {}\".format(kwargs.get('message','The result is'), float(operation_value))\n",
    "    else:\n",
    "        final = \"{} {}\".format(kwargs.get('message','The result is'), int(operation_value))\n",
    "    return final\n"
   ]
  }
 ],
 "metadata": {
  "kernelspec": {
   "display_name": "Python 3",
   "language": "python",
   "name": "python3"
  },
  "language_info": {
   "codemirror_mode": {
    "name": "ipython",
    "version": 3
   },
   "file_extension": ".py",
   "mimetype": "text/x-python",
   "name": "python",
   "nbconvert_exporter": "python",
   "pygments_lexer": "ipython3",
   "version": "3.6.4"
  }
 },
 "nbformat": 4,
 "nbformat_minor": 2
}

{
 "cells": [
  {
   "cell_type": "code",
   "execution_count": 16,
   "metadata": {},
   "outputs": [
    {
     "data": {
      "text/plain": [
       "True"
      ]
     },
     "execution_count": 16,
     "metadata": {},
     "output_type": "execute_result"
    }
   ],
   "source": [
    "'''\n",
    "ALL\n",
    "Rerutn True if all elements of the iterable are truthy \n",
    "(or if the iterable is empty)\n",
    "'''\n",
    "all(num for num in [1,5,3,7] if num % 2 == 0)"
   ]
  },
  {
   "cell_type": "code",
   "execution_count": 17,
   "metadata": {},
   "outputs": [
    {
     "data": {
      "text/plain": [
       "False"
      ]
     },
     "execution_count": 17,
     "metadata": {},
     "output_type": "execute_result"
    }
   ],
   "source": [
    "'''\n",
    "ANY\n",
    "Return true if any element if the iterable is truty, if the iterable\n",
    "is empty return False \n",
    "'''\n",
    "any([num for num in [1,5,3,7] if num % 2 == 0])"
   ]
  },
  {
   "cell_type": "code",
   "execution_count": 18,
   "metadata": {},
   "outputs": [
    {
     "data": {
      "text/plain": [
       "False"
      ]
     },
     "execution_count": 18,
     "metadata": {},
     "output_type": "execute_result"
    }
   ],
   "source": [
    "'''\n",
    "Any/All Exercise\n",
    "Implement a function is_all_strings \n",
    "that accepts a single iterable and returns True \n",
    "if it contains ONLY strings. \n",
    "Otherwise, it should return false.  \n",
    "'''\n",
    "\n",
    "def is_all_strings(l):\n",
    "    return all(type(x) == str for x in l)\n",
    "\n",
    "\n",
    "is_all_strings(['a', 'b', 'c', 2])"
   ]
  },
  {
   "cell_type": "code",
   "execution_count": null,
   "metadata": {},
   "outputs": [],
   "source": []
  }
 ],
 "metadata": {
  "kernelspec": {
   "display_name": "Python 3",
   "language": "python",
   "name": "python3"
  },
  "language_info": {
   "codemirror_mode": {
    "name": "ipython",
    "version": 3
   },
   "file_extension": ".py",
   "mimetype": "text/x-python",
   "name": "python",
   "nbconvert_exporter": "python",
   "pygments_lexer": "ipython3",
   "version": "3.6.4"
  }
 },
 "nbformat": 4,
 "nbformat_minor": 2
}

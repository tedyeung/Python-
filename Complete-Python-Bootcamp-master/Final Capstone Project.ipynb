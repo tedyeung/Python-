{
 "cells": [
  {
   "cell_type": "markdown",
   "metadata": {
    "collapsed": true
   },
   "source": [
    "# Final Capstone Projects\n",
    "\n",
    "Please refer to the [**Final Capstone Projects**](http://nbviewer.jupyter.org/github/jmportilla/Complete-Python-Bootcamp/tree/master/Final%20Capstone%20Projects/) folder to get all the info on final capstone project ideas and possible solutions!"
   ]
  },
  {
   "cell_type": "code",
   "execution_count": 1,
   "metadata": {},
   "outputs": [
    {
     "ename": "SyntaxError",
     "evalue": "invalid syntax (<ipython-input-1-6f5e5e581727>, line 37)",
     "output_type": "error",
     "traceback": [
      "\u001b[1;36m  File \u001b[1;32m\"<ipython-input-1-6f5e5e581727>\"\u001b[1;36m, line \u001b[1;32m37\u001b[0m\n\u001b[1;33m    print validate(input(\"Enter CC number to validate\\r\\n>\"))\u001b[0m\n\u001b[1;37m                 ^\u001b[0m\n\u001b[1;31mSyntaxError\u001b[0m\u001b[1;31m:\u001b[0m invalid syntax\n"
     ]
    }
   ],
   "source": [
    "def validate(n):\n",
    "\t\n",
    "\tintArray = intToArray(n)\n",
    "\n",
    "\tif len(intArray) % 2 == 0:\n",
    "\t\toddEven(0, intArray)\n",
    "\telse:\n",
    "\t\toddEven(1, intArray)\n",
    "\n",
    "\tif sum(intArray) % 10 == 0:\n",
    "\t\treturn True\n",
    "\telse:\n",
    "\t\treturn False\n",
    "\n",
    "def intToArray(n):\n",
    "\tmyArray = str(n)\n",
    "\n",
    "\tintArray = []\n",
    "\tfor x in myArray:\n",
    "\t\tintArray.append(int(x))\n",
    "\n",
    "\treturn intArray\n",
    "    \n",
    "#Doubles and sums array values\n",
    "#Odd numbers have startIndex 1\n",
    "def oddEven(startIndex, intArray):\n",
    "    for i in range(startIndex, len(intArray), 2):\n",
    "        newDigit = intArray[i] * 2\n",
    "        if newDigit < 10:\n",
    "            intArray[i] = newDigit\n",
    "        else:\n",
    "            intArray[i] = sumOfDigits(newDigit)\n",
    "            \n",
    "def sumOfDigits(n):\n",
    "    return (n / 10) + (n % 10)\n",
    "\n",
    "print validate(input(\"Enter CC number to validate\\r\\n>\"))"
   ]
  },
  {
   "cell_type": "code",
   "execution_count": null,
   "metadata": {
    "collapsed": true
   },
   "outputs": [],
   "source": []
  }
 ],
 "metadata": {
  "kernelspec": {
   "display_name": "Python 3",
   "language": "python",
   "name": "python3"
  },
  "language_info": {
   "codemirror_mode": {
    "name": "ipython",
    "version": 3
   },
   "file_extension": ".py",
   "mimetype": "text/x-python",
   "name": "python",
   "nbconvert_exporter": "python",
   "pygments_lexer": "ipython3",
   "version": "3.6.2"
  }
 },
 "nbformat": 4,
 "nbformat_minor": 1
}

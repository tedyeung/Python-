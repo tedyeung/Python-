{
 "cells": [
  {
   "cell_type": "code",
   "execution_count": 1,
   "metadata": {},
   "outputs": [
    {
     "name": "stdout",
     "output_type": "stream",
     "text": [
      "[[1, 2, 3, 4], ['Slavo', 'Nemanja', 'Marko', 'Ivan'], ['Python', 'JavaScript', 'Swift', 'Java']]\n"
     ]
    }
   ],
   "source": [
    "tableData = [[1,2,3,4],['Slavo','Nemanja', 'Marko', 'Ivan'], ['Python', 'JavaScript', 'Swift','Java']]\n",
    "print(tableData)"
   ]
  },
  {
   "cell_type": "code",
   "execution_count": 3,
   "metadata": {},
   "outputs": [
    {
     "name": "stdout",
     "output_type": "stream",
     "text": [
      "[1, 2, 3, 4]\n",
      "['Slavo', 'Nemanja', 'Marko', 'Ivan']\n",
      "['Python', 'JavaScript', 'Swift', 'Java']\n"
     ]
    }
   ],
   "source": [
    "for a in tableData:\n",
    "    print(a)"
   ]
  },
  {
   "cell_type": "code",
   "execution_count": 13,
   "metadata": {},
   "outputs": [
    {
     "name": "stdout",
     "output_type": "stream",
     "text": [
      "1\n",
      "2\n",
      "3\n",
      "4\n",
      "Slavo\n",
      "Nemanja\n",
      "Marko\n",
      "Ivan\n",
      "Python\n",
      "JavaScript\n",
      "Swift\n",
      "Java\n"
     ]
    }
   ],
   "source": [
    "for var i = 0; i < tableData."
   ]
  },
  {
   "cell_type": "code",
   "execution_count": null,
   "metadata": {
    "collapsed": true
   },
   "outputs": [],
   "source": []
  }
 ],
 "metadata": {
  "kernelspec": {
   "display_name": "Python 3",
   "language": "python",
   "name": "python3"
  },
  "language_info": {
   "codemirror_mode": {
    "name": "ipython",
    "version": 3
   },
   "file_extension": ".py",
   "mimetype": "text/x-python",
   "name": "python",
   "nbconvert_exporter": "python",
   "pygments_lexer": "ipython3",
   "version": "3.6.2"
  }
 },
 "nbformat": 4,
 "nbformat_minor": 2
}

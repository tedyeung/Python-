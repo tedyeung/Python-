{
 "cells": [
  {
   "cell_type": "code",
   "execution_count": 3,
   "metadata": {},
   "outputs": [
    {
     "name": "stdout",
     "output_type": "stream",
     "text": [
      "(3, 4, 5)\n"
     ]
    }
   ],
   "source": [
    "def args_func(*args):\n",
    "    print(args)\n",
    "\n",
    "args_func(3,4,5)"
   ]
  },
  {
   "cell_type": "code",
   "execution_count": 8,
   "metadata": {},
   "outputs": [
    {
     "data": {
      "text/plain": [
       "10"
      ]
     },
     "execution_count": 8,
     "metadata": {},
     "output_type": "execute_result"
    }
   ],
   "source": [
    "def sum_num(*args):\n",
    "    res = 0\n",
    "    for num in args:\n",
    "        res += num\n",
    "        \n",
    "    return res\n",
    "\n",
    "sum_num(1,2,3,4)"
   ]
  },
  {
   "cell_type": "code",
   "execution_count": 9,
   "metadata": {},
   "outputs": [
    {
     "data": {
      "text/plain": [
       "True"
      ]
     },
     "execution_count": 9,
     "metadata": {},
     "output_type": "execute_result"
    }
   ],
   "source": [
    "# *args Exercise: The Purple Test\n",
    "'''\n",
    "Define a function contains_purple that accepts any number of arguments. \n",
    "It should return True  \n",
    "if any of the arguments \n",
    "are \"purple\" (all lowercase). Otherwise, \n",
    "it should return False .  For example:\n",
    "'''\n",
    "\n",
    "def contains_purple(*args):\n",
    "    if 'purple' in args:\n",
    "        return True \n",
    "    else:\n",
    "        return False \n",
    "    \n",
    "contains_purple(25, \"purple\")\n"
   ]
  },
  {
   "cell_type": "code",
   "execution_count": 10,
   "metadata": {},
   "outputs": [
    {
     "data": {
      "text/plain": [
       "False"
      ]
     },
     "execution_count": 10,
     "metadata": {},
     "output_type": "execute_result"
    }
   ],
   "source": [
    "contains_purple(\"green\", False, 37, \"blue\", \"hello world\") "
   ]
  },
  {
   "cell_type": "code",
   "execution_count": 11,
   "metadata": {},
   "outputs": [
    {
     "data": {
      "text/plain": [
       "False"
      ]
     },
     "execution_count": 11,
     "metadata": {},
     "output_type": "execute_result"
    }
   ],
   "source": [
    "def contains_purple(*args):\n",
    "    if \"purple\" in args: return True\n",
    "    return False\n",
    "\n",
    "contains_purple(\"green\", False, 37, \"blue\", \"hello world\")"
   ]
  },
  {
   "cell_type": "code",
   "execution_count": 16,
   "metadata": {},
   "outputs": [
    {
     "name": "stdout",
     "output_type": "stream",
     "text": [
      "{'name': 'Slavo', 'age': '36', 'skills': ['Python', 'JavaScript'], 'job': 'Software Developer'}\n"
     ]
    }
   ],
   "source": [
    "# **kwargs\n",
    "\n",
    "def dic_example(**kwargs):\n",
    "    print(kwargs)\n",
    "    \n",
    "dic_example(name='Slavo', age ='36', skills = [\"Python\", \"JavaScript\"], job = 'Software Developer')"
   ]
  },
  {
   "cell_type": "code",
   "execution_count": 18,
   "metadata": {},
   "outputs": [
    {
     "ename": "NameError",
     "evalue": "name 'person' is not defined",
     "output_type": "error",
     "traceback": [
      "\u001b[0;31m---------------------------------------------------------------------------\u001b[0m",
      "\u001b[0;31mNameError\u001b[0m                                 Traceback (most recent call last)",
      "\u001b[0;32m<ipython-input-18-89b28c0171f1>\u001b[0m in \u001b[0;36m<module>\u001b[0;34m()\u001b[0m\n\u001b[1;32m      2\u001b[0m \u001b[0;32mdef\u001b[0m \u001b[0mdic_test\u001b[0m \u001b[0;34m(\u001b[0m\u001b[0;34m**\u001b[0m\u001b[0mkwargs\u001b[0m\u001b[0;34m)\u001b[0m\u001b[0;34m:\u001b[0m\u001b[0;34m\u001b[0m\u001b[0m\n\u001b[1;32m      3\u001b[0m     \u001b[0mprint\u001b[0m\u001b[0;34m(\u001b[0m\u001b[0;34mf\"{person} is doing {langualge}\"\u001b[0m\u001b[0;34m)\u001b[0m\u001b[0;34m\u001b[0m\u001b[0m\n\u001b[0;32m----> 4\u001b[0;31m \u001b[0mdic_test\u001b[0m \u001b[0;34m(\u001b[0m\u001b[0mSlavo\u001b[0m \u001b[0;34m=\u001b[0m \u001b[0;34m'Python'\u001b[0m\u001b[0;34m,\u001b[0m \u001b[0mDragan\u001b[0m \u001b[0;34m=\u001b[0m \u001b[0;34m'Java'\u001b[0m\u001b[0;34m,\u001b[0m \u001b[0mNemanja\u001b[0m \u001b[0;34m=\u001b[0m \u001b[0;34m'JavaScript'\u001b[0m \u001b[0;34m)\u001b[0m\u001b[0;34m\u001b[0m\u001b[0m\n\u001b[0m",
      "\u001b[0;32m<ipython-input-18-89b28c0171f1>\u001b[0m in \u001b[0;36mdic_test\u001b[0;34m(**kwargs)\u001b[0m\n\u001b[1;32m      1\u001b[0m \u001b[0;31m# f string\u001b[0m\u001b[0;34m\u001b[0m\u001b[0;34m\u001b[0m\u001b[0m\n\u001b[1;32m      2\u001b[0m \u001b[0;32mdef\u001b[0m \u001b[0mdic_test\u001b[0m \u001b[0;34m(\u001b[0m\u001b[0;34m**\u001b[0m\u001b[0mkwargs\u001b[0m\u001b[0;34m)\u001b[0m\u001b[0;34m:\u001b[0m\u001b[0;34m\u001b[0m\u001b[0m\n\u001b[0;32m----> 3\u001b[0;31m     \u001b[0mprint\u001b[0m\u001b[0;34m(\u001b[0m\u001b[0;34mf\"{person} is doing {langualge}\"\u001b[0m\u001b[0;34m)\u001b[0m\u001b[0;34m\u001b[0m\u001b[0m\n\u001b[0m\u001b[1;32m      4\u001b[0m \u001b[0mdic_test\u001b[0m \u001b[0;34m(\u001b[0m\u001b[0mSlavo\u001b[0m \u001b[0;34m=\u001b[0m \u001b[0;34m'Python'\u001b[0m\u001b[0;34m,\u001b[0m \u001b[0mDragan\u001b[0m \u001b[0;34m=\u001b[0m \u001b[0;34m'Java'\u001b[0m\u001b[0;34m,\u001b[0m \u001b[0mNemanja\u001b[0m \u001b[0;34m=\u001b[0m \u001b[0;34m'JavaScript'\u001b[0m \u001b[0;34m)\u001b[0m\u001b[0;34m\u001b[0m\u001b[0m\n",
      "\u001b[0;31mNameError\u001b[0m: name 'person' is not defined"
     ]
    }
   ],
   "source": [
    "# f string \n",
    "def dic_test (**kwargs):\n",
    "    print(f\"{person} is doing {langualge}\")\n",
    "dic_test (Slavo = 'Python', Dragan = 'Java', Nemanja = 'JavaScript' )"
   ]
  },
  {
   "cell_type": "code",
   "execution_count": null,
   "metadata": {},
   "outputs": [],
   "source": [
    "# **kwargs Exercise\n",
    "# Note: for this exercise, make use of **kwargs.  No default parameters allowed!\n",
    "'''\n",
    "Write a function called combine_words  which accepts a single string called word \n",
    "and any number of additional key word arguments.  \n",
    "If a prefix is provided, return the prefix followed by the word.  \n",
    "If a suffix is provided, return the word followed by the suffix. \n",
    "If neither is provided, just return the word. \n",
    "It might sound confusing,\n",
    "but the examples should make this a lot clearer!\n",
    "'''    \n",
    "\n",
    "def combine_words(a, **kwargs):\n",
    "    if \n",
    "    \n",
    "    \n",
    "combine_words(\"child\", prefix=\"man\") \n"
   ]
  },
  {
   "cell_type": "code",
   "execution_count": null,
   "metadata": {},
   "outputs": [],
   "source": []
  }
 ],
 "metadata": {
  "kernelspec": {
   "display_name": "Python 3",
   "language": "python",
   "name": "python3"
  },
  "language_info": {
   "codemirror_mode": {
    "name": "ipython",
    "version": 3
   },
   "file_extension": ".py",
   "mimetype": "text/x-python",
   "name": "python",
   "nbconvert_exporter": "python",
   "pygments_lexer": "ipython3",
   "version": "3.6.4"
  }
 },
 "nbformat": 4,
 "nbformat_minor": 2
}

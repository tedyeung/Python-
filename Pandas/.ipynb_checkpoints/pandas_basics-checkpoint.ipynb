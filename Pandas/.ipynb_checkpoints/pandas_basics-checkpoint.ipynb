{
 "cells": [
  {
   "cell_type": "code",
   "execution_count": 8,
   "metadata": {},
   "outputs": [
    {
     "name": "stdout",
     "output_type": "stream",
     "text": [
      "        Price  Age  Value\n",
      "First       2    4      6\n",
      "Second     10   20     30\n"
     ]
    }
   ],
   "source": [
    "from pandas import DataFrame \n",
    "\n",
    "df1 = DataFrame([[2,4,6],[10,20,30]],columns = ['Price','Age','Value'],index =['First', 'Second'])\n",
    "print(df1)"
   ]
  },
  {
   "cell_type": "code",
   "execution_count": 12,
   "metadata": {},
   "outputs": [
    {
     "name": "stdout",
     "output_type": "stream",
     "text": [
      "  first_name\n",
      "0      Slavo\n",
      "1      Nenad\n"
     ]
    }
   ],
   "source": [
    "df2 = DataFrame([{\"first_name\": \"Slavo\"},{\"first_name\": \"Nenad\"}])\n",
    "print(df2)"
   ]
  },
  {
   "cell_type": "code",
   "execution_count": null,
   "metadata": {
    "collapsed": true
   },
   "outputs": [],
   "source": []
  }
 ],
 "metadata": {
  "kernelspec": {
   "display_name": "Python 3",
   "language": "python",
   "name": "python3"
  },
  "language_info": {
   "codemirror_mode": {
    "name": "ipython",
    "version": 3
   },
   "file_extension": ".py",
   "mimetype": "text/x-python",
   "name": "python",
   "nbconvert_exporter": "python",
   "pygments_lexer": "ipython3",
   "version": "3.6.2"
  }
 },
 "nbformat": 4,
 "nbformat_minor": 2
}

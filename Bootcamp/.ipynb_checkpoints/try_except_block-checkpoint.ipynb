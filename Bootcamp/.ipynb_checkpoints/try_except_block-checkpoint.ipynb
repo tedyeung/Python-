{
 "cells": [
  {
   "cell_type": "code",
   "execution_count": 8,
   "metadata": {},
   "outputs": [
    {
     "name": "stdout",
     "output_type": "stream",
     "text": [
      "\n",
      " Squere number of:  5  is:  25\n",
      "----------\n",
      "\n",
      "This item is not a number in the list a\n",
      "This item is not a number in the list b\n",
      "\n",
      " Squere number of:  10  is:  100\n",
      "----------\n",
      "\n",
      "This item is not a number in the list z\n",
      "This item is not a number in the list g\n",
      "This item is not a number in the list c\n"
     ]
    }
   ],
   "source": [
    "for i in {'a', 'b', 'c', 5, 10, 'g', 'z'}:\n",
    "    try:\n",
    "        print ('\\n','Squere number of: ', i, ' is: ', i**2)\n",
    "        print ('----------\\n')\n",
    "    except:\n",
    "        print ('This item is not a number in the list %s' %i)"
   ]
  },
  {
   "cell_type": "code",
   "execution_count": 10,
   "metadata": {},
   "outputs": [
    {
     "name": "stdout",
     "output_type": "stream",
     "text": [
      "Add one number: 10\n",
      "Add one number: 0\n",
      "If y is 0 we can not devide those to numbers and if you add letters we can do it also\n",
      "Well Done!!!!! You are better and better in Python!!!!!!!\n"
     ]
    }
   ],
   "source": [
    "x = input ('Add one number: ')\n",
    "y = input ('Add one number: ')\n",
    "x = int(x)\n",
    "y = int(y)\n",
    "try:\n",
    "    print ('Resalt of x / y is ', x/y)\n",
    "except:\n",
    "    print('If y is 0 we can not devide those to numbers and if you add letters we can do it also')\n",
    "finally:\n",
    "    print('Well Done!!!!! You are better and better in Python!!!!!!!')\n",
    "    "
   ]
  },
  {
   "cell_type": "code",
   "execution_count": 14,
   "metadata": {},
   "outputs": [
    {
     "name": "stdout",
     "output_type": "stream",
     "text": [
      "Please add integer: test\n"
     ]
    },
    {
     "ename": "ValueError",
     "evalue": "invalid literal for int() with base 10: 'test'",
     "output_type": "error",
     "traceback": [
      "\u001b[1;31m---------------------------------------------------------------------------\u001b[0m",
      "\u001b[1;31mValueError\u001b[0m                                Traceback (most recent call last)",
      "\u001b[1;32m<ipython-input-14-527c26b066cb>\u001b[0m in \u001b[0;36m<module>\u001b[1;34m()\u001b[0m\n\u001b[0;32m     12\u001b[0m             \u001b[0mactive\u001b[0m \u001b[1;33m=\u001b[0m \u001b[1;32mFalse\u001b[0m\u001b[1;33m\u001b[0m\u001b[0m\n\u001b[0;32m     13\u001b[0m \u001b[1;33m\u001b[0m\u001b[0m\n\u001b[1;32m---> 14\u001b[1;33m \u001b[0mask_int\u001b[0m\u001b[1;33m(\u001b[0m\u001b[1;33m)\u001b[0m\u001b[1;33m\u001b[0m\u001b[0m\n\u001b[0m\u001b[0;32m     15\u001b[0m \u001b[1;33m\u001b[0m\u001b[0m\n\u001b[0;32m     16\u001b[0m \u001b[1;33m\u001b[0m\u001b[0m\n",
      "\u001b[1;32m<ipython-input-14-527c26b066cb>\u001b[0m in \u001b[0;36mask_int\u001b[1;34m()\u001b[0m\n\u001b[0;32m      4\u001b[0m     \u001b[1;32mwhile\u001b[0m \u001b[0mactive\u001b[0m\u001b[1;33m:\u001b[0m\u001b[1;33m\u001b[0m\u001b[0m\n\u001b[0;32m      5\u001b[0m         \u001b[0mnum\u001b[0m \u001b[1;33m=\u001b[0m \u001b[0minput\u001b[0m\u001b[1;33m(\u001b[0m\u001b[1;34m\"Please add integer: \"\u001b[0m\u001b[1;33m)\u001b[0m\u001b[1;33m\u001b[0m\u001b[0m\n\u001b[1;32m----> 6\u001b[1;33m         \u001b[0mnum\u001b[0m \u001b[1;33m=\u001b[0m \u001b[0mint\u001b[0m\u001b[1;33m(\u001b[0m\u001b[0mnum\u001b[0m\u001b[1;33m)\u001b[0m\u001b[1;33m\u001b[0m\u001b[0m\n\u001b[0m\u001b[0;32m      7\u001b[0m         \u001b[1;32mif\u001b[0m \u001b[0mnum\u001b[0m \u001b[1;33m!=\u001b[0m \u001b[0mint\u001b[0m\u001b[1;33m(\u001b[0m\u001b[0mnum\u001b[0m\u001b[1;33m)\u001b[0m\u001b[1;33m:\u001b[0m\u001b[1;33m\u001b[0m\u001b[0m\n\u001b[0;32m      8\u001b[0m             \u001b[0mprint\u001b[0m\u001b[1;33m(\u001b[0m\u001b[1;34m'Please try again'\u001b[0m\u001b[1;33m)\u001b[0m\u001b[1;33m\u001b[0m\u001b[0m\n",
      "\u001b[1;31mValueError\u001b[0m: invalid literal for int() with base 10: 'test'"
     ]
    }
   ],
   "source": [
    "print ('if you want to quit the program please type q')\n",
    "\n",
    "def ask_int():\n",
    "    active = True \n",
    "    \n",
    "    while active:\n",
    "        num = input(\"Please add integer: \")\n",
    "        num = int(num)\n",
    "        if num != 'q':\n",
    "            try:\n",
    "                print ('Your input is: ', num)\n",
    "                print ('Square number of your input is: ', num**2)\n",
    "            except:\n",
    "                print ('Wrong Value, Plase add number')\n",
    "            finally: \n",
    "                print ('You did All well done')\n",
    "        else:\n",
    "            active = False\n",
    "            print ('You are done for Today!!!')\n",
    "            break\n",
    "            \n",
    "ask_int()\n",
    "        \n",
    "    "
   ]
  },
  {
   "cell_type": "code",
   "execution_count": null,
   "metadata": {
    "collapsed": true
   },
   "outputs": [],
   "source": []
  },
  {
   "cell_type": "code",
   "execution_count": null,
   "metadata": {
    "collapsed": true
   },
   "outputs": [],
   "source": []
  }
 ],
 "metadata": {
  "kernelspec": {
   "display_name": "Python 3",
   "language": "python",
   "name": "python3"
  },
  "language_info": {
   "codemirror_mode": {
    "name": "ipython",
    "version": 3
   },
   "file_extension": ".py",
   "mimetype": "text/x-python",
   "name": "python",
   "nbconvert_exporter": "python",
   "pygments_lexer": "ipython3",
   "version": "3.6.2"
  }
 },
 "nbformat": 4,
 "nbformat_minor": 2
}

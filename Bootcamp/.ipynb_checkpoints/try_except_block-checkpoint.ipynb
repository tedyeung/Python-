{
 "cells": [
  {
   "cell_type": "code",
   "execution_count": 8,
   "metadata": {},
   "outputs": [
    {
     "name": "stdout",
     "output_type": "stream",
     "text": [
      "\n",
      " Squere number of:  5  is:  25\n",
      "----------\n",
      "\n",
      "This item is not a number in the list a\n",
      "This item is not a number in the list b\n",
      "\n",
      " Squere number of:  10  is:  100\n",
      "----------\n",
      "\n",
      "This item is not a number in the list z\n",
      "This item is not a number in the list g\n",
      "This item is not a number in the list c\n"
     ]
    }
   ],
   "source": [
    "for i in {'a', 'b', 'c', 5, 10, 'g', 'z'}:\n",
    "    try:\n",
    "        print ('\\n','Squere number of: ', i, ' is: ', i**2)\n",
    "        print ('----------\\n')\n",
    "    except:\n",
    "        print ('This item is not a number in the list %s' %i)"
   ]
  },
  {
   "cell_type": "code",
   "execution_count": 10,
   "metadata": {},
   "outputs": [
    {
     "name": "stdout",
     "output_type": "stream",
     "text": [
      "Add one number: 10\n",
      "Add one number: 0\n",
      "If y is 0 we can not devide those to numbers and if you add letters we can do it also\n",
      "Well Done!!!!! You are better and better in Python!!!!!!!\n"
     ]
    }
   ],
   "source": [
    "x = input ('Add one number: ')\n",
    "y = input ('Add one number: ')\n",
    "x = int(x)\n",
    "y = int(y)\n",
    "try:\n",
    "    print ('Resalt of x / y is ', x/y)\n",
    "except:\n",
    "    print('If y is 0 we can not devide those to numbers and if you add letters we can do it also')\n",
    "finally:\n",
    "    print('Well Done!!!!! You are better and better in Python!!!!!!!')\n",
    "    "
   ]
  },
  {
   "cell_type": "code",
   "execution_count": 16,
   "metadata": {},
   "outputs": [
    {
     "name": "stdout",
     "output_type": "stream",
     "text": [
      "if you want to quit the program please type q\n",
      "Please add integer: 4\n",
      "Your input is:  4\n",
      "Square number of your input is:  16\n",
      "You did All well done\n",
      "Please add integer: 8\n",
      "Your input is:  8\n",
      "Square number of your input is:  64\n",
      "You did All well done\n",
      "Please add integer: test\n",
      "Wrong Value, Plase add number\n",
      "You did All well done\n",
      "Please add integer: q\n",
      "You are done for Today!!!\n"
     ]
    }
   ],
   "source": [
    "print ('if you want to quit the program please type q')\n",
    "\n",
    "def ask_int():\n",
    "    active = True \n",
    "    \n",
    "    while active:\n",
    "        num = input(\"Please add integer: \")\n",
    "        if num != 'q':\n",
    "            try:\n",
    "                num = int(num)\n",
    "                print ('Your input is: ', num)\n",
    "                print ('Square number of your input is: ', num**2)\n",
    "            except:\n",
    "                print ('Wrong Value, Plase add number')\n",
    "            finally: \n",
    "                print ('Finally Statement test')\n",
    "        else:\n",
    "            active = False\n",
    "            print ('You are done for Today!!!')\n",
    "            break\n",
    "            \n",
    "ask_int()\n",
    "        \n",
    "    "
   ]
  },
  {
   "cell_type": "code",
   "execution_count": null,
   "metadata": {
    "collapsed": true
   },
   "outputs": [],
   "source": []
  },
  {
   "cell_type": "code",
   "execution_count": null,
   "metadata": {
    "collapsed": true
   },
   "outputs": [],
   "source": []
  }
 ],
 "metadata": {
  "kernelspec": {
   "display_name": "Python 3",
   "language": "python",
   "name": "python3"
  },
  "language_info": {
   "codemirror_mode": {
    "name": "ipython",
    "version": 3
   },
   "file_extension": ".py",
   "mimetype": "text/x-python",
   "name": "python",
   "nbconvert_exporter": "python",
   "pygments_lexer": "ipython3",
   "version": "3.6.2"
  }
 },
 "nbformat": 4,
 "nbformat_minor": 2
}

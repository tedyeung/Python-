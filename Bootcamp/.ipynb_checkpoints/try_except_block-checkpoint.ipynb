{
 "cells": [
  {
   "cell_type": "code",
   "execution_count": 7,
   "metadata": {},
   "outputs": [
    {
     "name": "stdout",
     "output_type": "stream",
     "text": [
      "\n",
      " Squere number of:  5  is:  25\n",
      "----------\n",
      "\n",
      "in Your list are not all numbers, please modify a list those items are not numbers: a\n",
      "in Your list are not all numbers, please modify a list those items are not numbers: b\n",
      "\n",
      " Squere number of:  10  is:  100\n",
      "----------\n",
      "\n",
      "in Your list are not all numbers, please modify a list those items are not numbers: z\n",
      "in Your list are not all numbers, please modify a list those items are not numbers: g\n",
      "in Your list are not all numbers, please modify a list those items are not numbers: c\n"
     ]
    }
   ],
   "source": [
    "for i in {'a', 'b', 'c', 5, 10, 'g', 'z'}:\n",
    "    try:\n",
    "        print ('\\n','Squere number of: ', i, ' is: ', i**2)\n",
    "        print ('----------\\n')\n",
    "    except:\n",
    "        print ('in Your list are not all numbers, please modify a list those items are not numbers: %s' %i)"
   ]
  },
  {
   "cell_type": "code",
   "execution_count": null,
   "metadata": {
    "collapsed": true
   },
   "outputs": [],
   "source": []
  }
 ],
 "metadata": {
  "kernelspec": {
   "display_name": "Python 3",
   "language": "python",
   "name": "python3"
  },
  "language_info": {
   "codemirror_mode": {
    "name": "ipython",
    "version": 3
   },
   "file_extension": ".py",
   "mimetype": "text/x-python",
   "name": "python",
   "nbconvert_exporter": "python",
   "pygments_lexer": "ipython3",
   "version": "3.6.2"
  }
 },
 "nbformat": 4,
 "nbformat_minor": 2
}

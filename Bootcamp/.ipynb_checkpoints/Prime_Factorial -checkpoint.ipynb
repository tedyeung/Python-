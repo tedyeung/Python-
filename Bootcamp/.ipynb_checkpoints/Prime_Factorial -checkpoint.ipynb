{
 "cells": [
  {
   "cell_type": "code",
   "execution_count": 6,
   "metadata": {},
   "outputs": [
    {
     "name": "stdout",
     "output_type": "stream",
     "text": [
      "Factorila number of 4 is:  24\n"
     ]
    }
   ],
   "source": [
    "'''\n",
    "Prime Factorization - \n",
    "Have the user enter a number and find all Prime Factors (if there are any) and display them.\n",
    "'''\n",
    "\n",
    "import math\n",
    "\n",
    "# factorial number of 4 \n",
    "def factorial_number (number):\n",
    "    return math.factorial(number)\n",
    "print('Factorila number of 4 is: ', factorial_number(4))"
   ]
  },
  {
   "cell_type": "code",
   "execution_count": null,
   "metadata": {
    "collapsed": true
   },
   "outputs": [],
   "source": []
  }
 ],
 "metadata": {
  "kernelspec": {
   "display_name": "Python 3",
   "language": "python",
   "name": "python3"
  },
  "language_info": {
   "codemirror_mode": {
    "name": "ipython",
    "version": 3
   },
   "file_extension": ".py",
   "mimetype": "text/x-python",
   "name": "python",
   "nbconvert_exporter": "python",
   "pygments_lexer": "ipython3",
   "version": "3.6.2"
  }
 },
 "nbformat": 4,
 "nbformat_minor": 2
}

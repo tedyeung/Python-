{
 "cells": [
  {
   "cell_type": "code",
   "execution_count": 6,
   "metadata": {},
   "outputs": [
    {
     "name": "stdout",
     "output_type": "stream",
     "text": [
      "Factorila number of 4 is:  24\n"
     ]
    }
   ],
   "source": [
    "'''\n",
    "Prime Factorization - \n",
    "Have the user enter a number and find all Prime Factors (if there are any) and display them.\n",
    "'''\n",
    "\n",
    "import math\n",
    "\n",
    "# factorial number of 4 \n",
    "def factorial_number (number):\n",
    "    return math.factorial(number)\n",
    "print('Factorila number of 4 is: ', factorial_number(4))"
   ]
  },
  {
   "cell_type": "code",
   "execution_count": 9,
   "metadata": {},
   "outputs": [
    {
     "data": {
      "text/plain": [
       "568"
      ]
     },
     "execution_count": 9,
     "metadata": {},
     "output_type": "execute_result"
    }
   ],
   "source": [
    "math.ceil(567.87)"
   ]
  },
  {
   "cell_type": "code",
   "execution_count": 10,
   "metadata": {},
   "outputs": [
    {
     "data": {
      "text/plain": [
       "568"
      ]
     },
     "execution_count": 10,
     "metadata": {},
     "output_type": "execute_result"
    }
   ],
   "source": [
    "math.ceil(567.23)"
   ]
  },
  {
   "cell_type": "code",
   "execution_count": null,
   "metadata": {
    "collapsed": true
   },
   "outputs": [],
   "source": [
    "choice = input(\"Continue finding prime numbers (y/n)? \")\n",
    "current = 1\n",
    "\n",
    "def is_prime(n):\n",
    "\tif n % 2 == 0:\n",
    "\t\treturn False\n",
    "\n",
    "\tfor i in range(3, int(n**0.5) + 1, 2):\n",
    "\t\tif n % i == 0:\n",
    "\t\t\treturn False\n",
    "\n",
    "\treturn True\n",
    "\n",
    "while choice.lower().startswith('y'):\n",
    "\tcurrent += 1\n",
    "\n",
    "\twhile is_prime(current) == False:\n",
    "\t\tcurrent += 1\n",
    "\n",
    "\tprint \"(Next prime is \" + str(current))\n",
    "\tchoice = input(\"Continue finding prime numbers (y/n)? \")"
   ]
  }
 ],
 "metadata": {
  "kernelspec": {
   "display_name": "Python 3",
   "language": "python",
   "name": "python3"
  },
  "language_info": {
   "codemirror_mode": {
    "name": "ipython",
    "version": 3
   },
   "file_extension": ".py",
   "mimetype": "text/x-python",
   "name": "python",
   "nbconvert_exporter": "python",
   "pygments_lexer": "ipython3",
   "version": "3.6.2"
  }
 },
 "nbformat": 4,
 "nbformat_minor": 2
}

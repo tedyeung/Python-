{
 "cells": [
  {
   "cell_type": "code",
   "execution_count": 5,
   "metadata": {},
   "outputs": [
    {
     "data": {
      "text/plain": [
       "[3, 4, 3, 3, 5, 2, 4, 6]"
      ]
     },
     "execution_count": 5,
     "metadata": {},
     "output_type": "execute_result"
    }
   ],
   "source": [
    "'''\n",
    "Problem 1\n",
    "Use map to create a function which finds the length of each word in the phrase (broken by spaces) \n",
    "and return the values in a list.\n",
    "The function will have an input of a string, and output a list of integers.\n",
    "'''\n",
    "def word_lengths(phrase):\n",
    "    return list(map(len, phrase.split()))\n",
    "    \n",
    "    \n",
    "word_lengths('How long are the words in this phrase')"
   ]
  },
  {
   "cell_type": "code",
   "execution_count": 15,
   "metadata": {},
   "outputs": [
    {
     "data": {
      "text/plain": [
       "34321"
      ]
     },
     "execution_count": 15,
     "metadata": {},
     "output_type": "execute_result"
    }
   ],
   "source": [
    "'''\n",
    "Problem 2\n",
    "Use reduce to take a list of digits and return the number \n",
    "that they correspond to. Do not convert the integers to strings!\n",
    "'''\n",
    "from functools import reduce\n",
    "def digits_to_num(digits):\n",
    "    return reduce(lambda x,y: x*10 + y, digits)\n",
    "    \n",
    "\n",
    "digits_to_num([3,4,3,2,1])\n"
   ]
  },
  {
   "cell_type": "code",
   "execution_count": null,
   "metadata": {
    "collapsed": true
   },
   "outputs": [],
   "source": [
    "# Use filter to return the words from a list of words which start with a target letter.\n",
    "\n",
    "def filter_words(word_list, letter):\n",
    "    return filter(lambda word: word[0]==letter,word_list)\n",
    "\n",
    "\n",
    "l = ['hello','are','cat','dog','ham','hi','go','to','heart']\n",
    "filter_words(l,'h')"
   ]
  }
 ],
 "metadata": {
  "kernelspec": {
   "display_name": "Python 3",
   "language": "python",
   "name": "python3"
  },
  "language_info": {
   "codemirror_mode": {
    "name": "ipython",
    "version": 3
   },
   "file_extension": ".py",
   "mimetype": "text/x-python",
   "name": "python",
   "nbconvert_exporter": "python",
   "pygments_lexer": "ipython3",
   "version": "3.6.2"
  }
 },
 "nbformat": 4,
 "nbformat_minor": 2
}

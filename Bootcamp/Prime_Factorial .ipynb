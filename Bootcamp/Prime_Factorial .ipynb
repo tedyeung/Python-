{
 "cells": [
  {
   "cell_type": "code",
   "execution_count": null,
   "metadata": {},
   "outputs": [],
   "source": [
    "'''\n",
    "Prime Factorization - \n",
    "Have the user enter a number and find all Prime Factors (if there are any) and display them.\n",
    "'''\n",
    "\n",
    "import math\n",
    "\n",
    "# factorial number of 4 \n",
    "def factorial_number (number):\n",
    "    return math.factorial(number)\n",
    "print('Factorila number of 4 is: ', factorial_number(4))"
   ]
  },
  {
   "cell_type": "code",
   "execution_count": null,
   "metadata": {},
   "outputs": [],
   "source": [
    "math.ceil(567.87)"
   ]
  },
  {
   "cell_type": "code",
   "execution_count": null,
   "metadata": {},
   "outputs": [],
   "source": [
    "math.ceil(567.23)"
   ]
  },
  {
   "cell_type": "code",
   "execution_count": null,
   "metadata": {
    "collapsed": true
   },
   "outputs": [],
   "source": [
    "n = list(range(3, (4**0.5)+1)\n",
    "n"
   ]
  },
  {
   "cell_type": "code",
   "execution_count": null,
   "metadata": {},
   "outputs": [],
   "source": [
    "question = input('Please add number and check if the number is Prime? ')\n",
    "num_input = int(question)\n",
    "\n",
    "def prime_number(number):\n",
    "    if (number % 2 == 0):\n",
    "        print (number, ' Your number is not a Prime Number')\n",
    "    \n",
    "    for i in range(3, int(number**0.5) + 1, 2):\n",
    "        if (number % 1 == 0):\n",
    "            print (number, ' Your number is not a Prime Number')\n",
    "        \n",
    "    print (number, ' Your number is a Prime Number')\n",
    "\n",
    "prime_number(num_input)\n"
   ]
  },
  {
   "cell_type": "code",
   "execution_count": null,
   "metadata": {
    "collapsed": true
   },
   "outputs": [],
   "source": []
  }
 ],
 "metadata": {
  "kernelspec": {
   "display_name": "Python 3",
   "language": "python",
   "name": "python3"
  },
  "language_info": {
   "codemirror_mode": {
    "name": "ipython",
    "version": 3
   },
   "file_extension": ".py",
   "mimetype": "text/x-python",
   "name": "python",
   "nbconvert_exporter": "python",
   "pygments_lexer": "ipython3",
   "version": "3.6.2"
  }
 },
 "nbformat": 4,
 "nbformat_minor": 2
}

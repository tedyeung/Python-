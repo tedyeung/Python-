{
 "cells": [
  {
   "cell_type": "code",
   "execution_count": 1,
   "metadata": {},
   "outputs": [
    {
     "name": "stdout",
     "output_type": "stream",
     "text": [
      "3.141592653589793\n"
     ]
    }
   ],
   "source": [
    "'''\n",
    "Find PI to the Nth Digit - \n",
    "Enter a number and have the program generate PI up to that many decimal places. \n",
    "Keep a limit to how far the program will go.\n",
    "'''\n",
    "\n",
    "import math as m\n",
    "\n",
    "print(m.pi)\n",
    "\n"
   ]
  },
  {
   "cell_type": "code",
   "execution_count": null,
   "metadata": {},
   "outputs": [
    {
     "name": "stdout",
     "output_type": "stream",
     "text": [
      "Welcome to Pi Calculator. In the shell below Enter the number of digits upto which the value of Pi should be calculated or enter quit to exit\n",
      ">>> 3.14\n",
      "You did not enter a number. Try again\n",
      ">>> "
     ]
    }
   ],
   "source": [
    "from __future__ import print_function\n",
    "import math, sys\n",
    "from decimal import *\n",
    "getcontext().rounding = ROUND_FLOOR\n",
    "sys.setrecursionlimit(100000)\n",
    "\n",
    "python2 = sys.version_info[0] == 2\n",
    "if python2:\n",
    "\tinput = raw_input\n",
    "\n",
    "def factorial(n):\n",
    "\t\"\"\"\n",
    "\tReturn the Factorial of a number using recursion\n",
    "\tParameters:\n",
    "\tn -- Number to get factorial of\n",
    "\t\"\"\"\n",
    "\tif not n:\n",
    "\t\treturn 1\n",
    "\treturn n*factorial(n-1)\n",
    "\n",
    "\n",
    "def getIteratedValue(k):\n",
    "\t\"\"\"\n",
    "\tReturn the Iterations as given in the Chudnovsky Algorithm.\n",
    "\tk iterations gives k-1 decimal places.. Since we need k decimal places\n",
    "\tmake iterations equal to k+1\n",
    "\t\n",
    "\tParameters:\n",
    "\tk  -- Number of Decimal Digits to get\n",
    "\t\"\"\"\n",
    "\tk = k+1\n",
    "\tgetcontext().prec = k\n",
    "\tsum=0\n",
    "\tfor k in range(k):\n",
    "\t\tfirst = factorial(6*k)*(13591409+545140134*k)\n",
    "\t\tdown = factorial(3*k)*(factorial(k))**3*(640320**(3*k))\n",
    "\t\tsum += first/down \n",
    "\treturn Decimal(sum) \n",
    "\n",
    "def getValueOfPi(k):\n",
    "\t\"\"\"\n",
    "\tReturns the calculated value of Pi using the iterated value of the loop\n",
    "\tand some division as given in the Chudnovsky Algorithm\n",
    "\tParameters:\n",
    "\tk -- Number of Decimal Digits upto which the value of Pi should be calculated\n",
    "\t\"\"\"\n",
    "\titer = getIteratedValue(k)\n",
    "\tup = 426880*math.sqrt(10005)\n",
    "\tpi = Decimal(up)/iter \n",
    "\t\n",
    "\treturn pi\n",
    "\n",
    "def shell():\n",
    "\t\"\"\"\n",
    "\tConsole Function to create the interactive Shell.\n",
    "\tRuns only when __name__ == __main__ that is when the script is being called directly\n",
    "\tNo return value and Parameters\n",
    "\t\"\"\"\n",
    "\tprint (\"Welcome to Pi Calculator. In the shell below Enter the number of digits upto which the value of Pi should be calculated or enter quit to exit\")\n",
    "\n",
    "\twhile True:\n",
    "\t\tprint (\">>> \", end='')\n",
    "\t\tentry = input()\n",
    "\t\tif entry == \"quit\":\n",
    "\t\t\tbreak\n",
    "\t\tif not entry.isdigit():\n",
    "\t\t\tprint (\"You did not enter a number. Try again\")\n",
    "\t\telse:\n",
    "\t\t\tprint (getValueOfPi(int(entry)))\n",
    "\n",
    "if __name__=='__main__':\n",
    "\tshell()"
   ]
  },
  {
   "cell_type": "code",
   "execution_count": 3,
   "metadata": {},
   "outputs": [
    {
     "ename": "TypeError",
     "evalue": "string indices must be integers",
     "output_type": "error",
     "traceback": [
      "\u001b[1;31m---------------------------------------------------------------------------\u001b[0m",
      "\u001b[1;31mTypeError\u001b[0m                                 Traceback (most recent call last)",
      "\u001b[1;32m<ipython-input-3-9f62643df3f8>\u001b[0m in \u001b[0;36m<module>\u001b[1;34m()\u001b[0m\n\u001b[1;32m----> 1\u001b[1;33m \u001b[0mnumbers_nt\u001b[0m\u001b[1;33m(\u001b[0m\u001b[0mm\u001b[0m\u001b[1;33m.\u001b[0m\u001b[0mpi\u001b[0m\u001b[1;33m)\u001b[0m\u001b[1;33m\u001b[0m\u001b[0m\n\u001b[0m",
      "\u001b[1;32m<ipython-input-2-1f743fbfb358>\u001b[0m in \u001b[0;36mnumbers_nt\u001b[1;34m(n)\u001b[0m\n\u001b[0;32m      5\u001b[0m \u001b[1;33m\u001b[0m\u001b[0m\n\u001b[0;32m      6\u001b[0m         \u001b[1;32mif\u001b[0m \u001b[0mn\u001b[0m \u001b[1;33m<\u001b[0m \u001b[1;36m9\u001b[0m \u001b[1;33m*\u001b[0m \u001b[0mpre\u001b[0m \u001b[1;33m*\u001b[0m \u001b[0mdigit\u001b[0m\u001b[1;33m:\u001b[0m\u001b[1;33m\u001b[0m\u001b[0m\n\u001b[1;32m----> 7\u001b[1;33m             \u001b[1;32mreturn\u001b[0m \u001b[0mint\u001b[0m\u001b[1;33m(\u001b[0m\u001b[0mstr\u001b[0m\u001b[1;33m(\u001b[0m\u001b[0mpre\u001b[0m \u001b[1;33m+\u001b[0m \u001b[0mn\u001b[0m \u001b[1;33m/\u001b[0m \u001b[0mdigit\u001b[0m\u001b[1;33m)\u001b[0m\u001b[1;33m[\u001b[0m\u001b[0mn\u001b[0m \u001b[1;33m%\u001b[0m \u001b[0mdigit\u001b[0m\u001b[1;33m]\u001b[0m\u001b[1;33m)\u001b[0m\u001b[1;33m\u001b[0m\u001b[0m\n\u001b[0m\u001b[0;32m      8\u001b[0m         \u001b[0mn\u001b[0m \u001b[1;33m-=\u001b[0m \u001b[1;36m9\u001b[0m \u001b[1;33m*\u001b[0m \u001b[0mpre\u001b[0m \u001b[1;33m*\u001b[0m \u001b[0mdigit\u001b[0m\u001b[1;33m\u001b[0m\u001b[0m\n\u001b[0;32m      9\u001b[0m \u001b[0mnumbers_nt\u001b[0m\u001b[1;33m(\u001b[0m\u001b[1;36m5\u001b[0m\u001b[1;33m)\u001b[0m\u001b[1;33m\u001b[0m\u001b[0m\n",
      "\u001b[1;31mTypeError\u001b[0m: string indices must be integers"
     ]
    }
   ],
   "source": [
    "numbers_nt(m.pi)"
   ]
  },
  {
   "cell_type": "code",
   "execution_count": null,
   "metadata": {
    "collapsed": true
   },
   "outputs": [],
   "source": []
  }
 ],
 "metadata": {
  "kernelspec": {
   "display_name": "Python 3",
   "language": "python",
   "name": "python3"
  },
  "language_info": {
   "codemirror_mode": {
    "name": "ipython",
    "version": 3
   },
   "file_extension": ".py",
   "mimetype": "text/x-python",
   "name": "python",
   "nbconvert_exporter": "python",
   "pygments_lexer": "ipython3",
   "version": "3.6.2"
  }
 },
 "nbformat": 4,
 "nbformat_minor": 2
}

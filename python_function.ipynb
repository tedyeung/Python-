{
 "cells": [
  {
   "cell_type": "code",
   "execution_count": 1,
   "metadata": {},
   "outputs": [],
   "source": [
    "# Write a function called product that accepts two parameters and returns the product \n",
    "# of the two parameters (multiple them together)"
   ]
  },
  {
   "cell_type": "code",
   "execution_count": 2,
   "metadata": {},
   "outputs": [
    {
     "data": {
      "text/plain": [
       "-4"
      ]
     },
     "execution_count": 2,
     "metadata": {},
     "output_type": "execute_result"
    }
   ],
   "source": [
    "def product(a,b):\n",
    "    return a*b\n",
    "\n",
    "product(2,2) # 4\n",
    "product(2,-2) # -4"
   ]
  },
  {
   "cell_type": "code",
   "execution_count": 3,
   "metadata": {},
   "outputs": [
    {
     "data": {
      "text/plain": [
       "'\\nWrite a function called return_day. \\nthis function takes in one parameter \\n(a number from 1-7) and returns the day of the week \\n(1 is Sunday, 2 is Monday, 3 is Tuesday etc.). \\nIf the number is less than 1 or greater than 7, \\nthe function should return None\\n'"
      ]
     },
     "execution_count": 3,
     "metadata": {},
     "output_type": "execute_result"
    }
   ],
   "source": [
    "'''\n",
    "Write a function called return_day. \n",
    "this function takes in one parameter \n",
    "(a number from 1-7) and returns the day of the week \n",
    "(1 is Sunday, 2 is Monday, 3 is Tuesday etc.). \n",
    "If the number is less than 1 or greater than 7, \n",
    "the function should return None\n",
    "'''"
   ]
  },
  {
   "cell_type": "code",
   "execution_count": 11,
   "metadata": {},
   "outputs": [
    {
     "data": {
      "text/plain": [
       "'None'"
      ]
     },
     "execution_count": 11,
     "metadata": {},
     "output_type": "execute_result"
    }
   ],
   "source": [
    "def return_day(n):\n",
    "    days = [None, 'Sunday', 'Monday', 'Tuesday', 'Wednesday', 'Thursday', 'Friday', 'Saturday']\n",
    "    try:\n",
    "        return days[n]\n",
    "    except:\n",
    "        return None \n",
    "    \n",
    "return_day(42)\n"
   ]
  },
  {
   "cell_type": "code",
   "execution_count": 15,
   "metadata": {},
   "outputs": [
    {
     "data": {
      "text/plain": [
       "3"
      ]
     },
     "execution_count": 15,
     "metadata": {},
     "output_type": "execute_result"
    }
   ],
   "source": [
    "'''\n",
    "Write a function called last_element. \n",
    "This function takes in one parameter \n",
    "(a list) and returns the last value in the list.\n",
    "It should return None if the list is empty.\n",
    "'''\n",
    "def last_element(n):\n",
    "    try:\n",
    "        return n.pop()\n",
    "    except:\n",
    "        return None\n",
    "\n",
    "last_element([1,2,3])\n"
   ]
  },
  {
   "cell_type": "code",
   "execution_count": 18,
   "metadata": {},
   "outputs": [
    {
     "data": {
      "text/plain": [
       "'First is greater'"
      ]
     },
     "execution_count": 18,
     "metadata": {},
     "output_type": "execute_result"
    }
   ],
   "source": [
    "# number_compare\n",
    "'''\n",
    "Write a function called number_compare. \n",
    "This function takes in two parameters (both numbers). \n",
    "If the first is greater than the second, this function returns \n",
    "\"First is greater.\" If the second number is greater than the first, \n",
    "the function returns \"Second is greater.\" \n",
    "Otherwise the function returns \"Numbers are equal.\"\n",
    "'''\n",
    "def number_compare(a,b):\n",
    "    if a > b:\n",
    "        return \"First is greater\"\n",
    "    elif a < b:\n",
    "        return \"Second is greater\"\n",
    "    else: \n",
    "        return \"Numbers are equal\"\n",
    "    \n",
    "number_compare(1,0)"
   ]
  },
  {
   "cell_type": "code",
   "execution_count": 28,
   "metadata": {},
   "outputs": [
    {
     "data": {
      "text/plain": [
       "1"
      ]
     },
     "execution_count": 28,
     "metadata": {},
     "output_type": "execute_result"
    }
   ],
   "source": [
    "# Single_letter_count\n",
    "\n",
    "'''\n",
    "Write a function called single_letter_count. \n",
    "This function takes in two parameters (two strings). \n",
    "The first parameter should be a word and the second should be a letter.\n",
    "The function returns the number of times that letter appears in the word.\n",
    "The function should be case insensitive \n",
    "(does not matter if the input is lowercase or uppercase). \n",
    "If the letter is not found in the word, \n",
    "the function should return 0.  \n",
    "'''\n",
    "\n",
    "def single_letter_count(a,b):\n",
    "    return a.lower().count(b.lower())\n",
    "  \n",
    "single_letter_count(\"Hello World\", \"h\")"
   ]
  },
  {
   "cell_type": "code",
   "execution_count": 32,
   "metadata": {},
   "outputs": [
    {
     "data": {
      "text/plain": [
       "{'a': 1, 'e': 2, 'm': 1, 'o': 1, 's': 1, 'w': 1}"
      ]
     },
     "execution_count": 32,
     "metadata": {},
     "output_type": "execute_result"
    }
   ],
   "source": [
    "# multiple_letter_count\n",
    "'''\n",
    "Write a function called multiple_letter_count. \n",
    "This function takes in one parameter (a string) \n",
    "and returns a dictionary with the keys being the letters \n",
    "and the values being the count of the letter.\n",
    "'''\n",
    "\n",
    "def multiple_letter_count(string):\n",
    "    return {letter: string.count(letter) for letter in string}\n",
    "\n",
    "multiple_letter_count(\"awesome\")"
   ]
  },
  {
   "cell_type": "code",
   "execution_count": 30,
   "metadata": {},
   "outputs": [
    {
     "name": "stdout",
     "output_type": "stream",
     "text": [
      "{'s': 1, 'l': 1, 'a': 1, 'v': 2, 'o': 3, 'p': 2, 'i': 1, 'c': 1}\n"
     ]
    }
   ],
   "source": [
    "string = 'slavopopovic'\n",
    "dict_1 = {letter: string.count(letter) for letter in string}\n",
    "print (dict_1)"
   ]
  },
  {
   "cell_type": "code",
   "execution_count": 52,
   "metadata": {},
   "outputs": [
    {
     "name": "stdout",
     "output_type": "stream",
     "text": [
      "3\n",
      "1\n",
      "[20, 1, 2, 3]\n",
      "[1, 2, 3, 30]\n"
     ]
    }
   ],
   "source": [
    "# list_manipulation\n",
    "'''\n",
    "Write a function called list_manipulation. This function should take in four parameters (a list, command, location and value).\n",
    "\n",
    "If the command is \"remove\" and the location \n",
    "is \"end\", the function should remove the last value in the list and return the value removed\n",
    "If the command is \"remove\" \n",
    "\n",
    "and the location is \"beginning\", \n",
    "the function should remove the first\n",
    "value in the list and return the value removed\n",
    "\n",
    "If the command is \"add\" and \n",
    "the location is \"beginning\", the function \n",
    "should add the value (fourth parameter) \n",
    "to the beginning of the list and return the list\n",
    "\n",
    "If the command is \n",
    "\"add\" and the location is \"end\", \n",
    "the function should add the value (fourth parameter) \n",
    "to the end of the list and return the list\n",
    "'''\n",
    "\n",
    "def list_manipulation(l, a, b, c=10):\n",
    "    if a == 'add' and b == 'beginning':\n",
    "        l.insert(0,c)\n",
    "        return l\n",
    "    elif a == 'add' and b == 'end':\n",
    "        l.append(c)\n",
    "        return l\n",
    "    elif a == 'remove' and b == 'end':\n",
    "        return l.pop()\n",
    "    else:\n",
    "        return l.pop(0)\n",
    "      \n",
    "\n",
    "print(list_manipulation([1,2,3], \"remove\", \"end\")) # 3\n",
    "print(list_manipulation([1,2,3], \"remove\", \"beginning\")) #  1\n",
    "print(list_manipulation([1,2,3], \"add\", \"beginning\", 20)) #  [20,1,2,3]\n",
    "print(list_manipulation([1,2,3], \"add\", \"end\", 30))#  [1,2,3,30] "
   ]
  },
  {
   "cell_type": "code",
   "execution_count": 40,
   "metadata": {},
   "outputs": [
    {
     "data": {
      "text/plain": [
       "True"
      ]
     },
     "execution_count": 40,
     "metadata": {},
     "output_type": "execute_result"
    }
   ],
   "source": [
    "# is_palindrome\n",
    "'''\n",
    "Write a function called is_palindrome. A Palindrome is a word, phrase, number,\n",
    "or other sequence of characters which reads the same backward or forward. \n",
    "This function should take in one parameter and returns True or False depending on whether \n",
    "it is a palindrome. As a bonus, allow your \n",
    "function to ignore whitespace and capitalization so that \n",
    "is_palindrome('a man a plan a canal Panama') returns True.\n",
    "'''\n",
    "\n",
    "def is_palindrome(a):\n",
    "    a = a.replace(' ', '')\n",
    "    l = [x for x in a]\n",
    "    l.reverse()\n",
    "    b = ''.join(l).replace(' ', '')\n",
    "    return  a.lower() == b.lower()\n",
    "        \n",
    "is_palindrome('a man a plan a canal Panama')\n",
    "    "
   ]
  },
  {
   "cell_type": "code",
   "execution_count": null,
   "metadata": {},
   "outputs": [],
   "source": [
    "def is_palindrome(string):\n",
    "    stripped = string.replace(\" \", \"\")\n",
    "    return stripped == stripped[::-1]\n",
    "\n",
    "is_palindrome('a man a plan a canal Panama')"
   ]
  },
  {
   "cell_type": "code",
   "execution_count": null,
   "metadata": {},
   "outputs": [],
   "source": []
  },
  {
   "cell_type": "code",
   "execution_count": null,
   "metadata": {},
   "outputs": [],
   "source": []
  }
 ],
 "metadata": {
  "kernelspec": {
   "display_name": "Python 3",
   "language": "python",
   "name": "python3"
  },
  "language_info": {
   "codemirror_mode": {
    "name": "ipython",
    "version": 3
   },
   "file_extension": ".py",
   "mimetype": "text/x-python",
   "name": "python",
   "nbconvert_exporter": "python",
   "pygments_lexer": "ipython3",
   "version": "3.6.4"
  }
 },
 "nbformat": 4,
 "nbformat_minor": 2
}

{
 "cells": [
  {
   "cell_type": "markdown",
   "metadata": {},
   "source": [
    "## Section 4 Homework data\n",
    "\n",
    "Dear Student,\n",
    "\n",
    "Welcome to the dataset for the homework exercise.\n",
    "\n",
    "**Instructions for this dataset:**\n",
    "\n",
    "You have only been supplied vectors. You will need to create the matrices yourself.\n",
    "\n",
    "Matrices:\n",
    " - FreeThrows\n",
    " - FreeThrowAttempts\n",
    "\n",
    "Sincerely,\n",
    "\n",
    "Kirill Eremenko\n",
    "\n",
    "[Super Data Science](http://www.superdatascience.com)\n",
    "\n",
    "Copyright: These datasets were prepared using publicly available data.\n",
    "           However, theses scripts are subject to Copyright Laws. \n",
    "           If you wish to use these R scripts outside of the R Programming Course\n",
    "           by Kirill Eremenko, you may do so by referencing www.superdatascience.com in your work.\n",
    "\n",
    "*Comments:*\n",
    "Seasons are labeled based on the first year in the season\n",
    "E.g. the 2012-2013 season is preseneted as simply 2012\n",
    "\n",
    "Notes and Corrections to the data:\n",
    " - Kevin Durant: 2006 - College Data Used\n",
    " - Kevin Durant: 2005 - Proxied With 2006 Data\n",
    " - Derrick Rose: 2012 - Did Not Play\n",
    " - Derrick Rose: 2007 - College Data Used\n",
    " - Derrick Rose: 2006 - Proxied With 2007 Data\n",
    " - Derrick Rose: 2005 - Proxied With 2007 Data"
   ]
  },
  {
   "cell_type": "code",
   "execution_count": 14,
   "metadata": {
    "collapsed": true
   },
   "outputs": [],
   "source": [
    "import numpy as np\n",
    "\n",
    "#Seasons\n",
    "Seasons = [\"2005\",\"2006\",\"2007\",\"2008\",\"2009\",\"2010\",\"2011\",\"2012\",\"2013\",\"2014\"]\n",
    "Sdict = {\"2005\":0,\"2006\":1,\"2007\":2,\"2008\":3,\"2009\":4,\"2010\":5,\"2011\":6,\"2012\":7,\"2013\":8,\"2014\":9}\n",
    "#Players\n",
    "Players = [\"KobeBryant\",\"JoeJohnson\",\"LeBronJames\",\"CarmeloAnthony\",\"DwightHoward\",\"ChrisBosh\",\"ChrisPaul\",\"KevinDurant\",\"DerrickRose\",\"DwayneWade\"]\n",
    "Pdict = {\"KobeBryant\":0,\"JoeJohnson\":1,\"LeBronJames\":2,\"CarmeloAnthony\":3,\"DwightHoward\":4,\"ChrisBosh\":5,\"ChrisPaul\":6,\"KevinDurant\":7,\"DerrickRose\":8,\"DwayneWade\":9}\n",
    "#Free Throws\n",
    "KobeBryant_FT = [696,667,623,483,439,483,381,525,18,196]\n",
    "JoeJohnson_FT = [261,235,316,299,220,195,158,132,159,141]\n",
    "LeBronJames_FT = [601,489,549,594,593,503,387,403,439,375]\n",
    "CarmeloAnthony_FT = [573,459,464,371,508,507,295,425,459,189]\n",
    "DwightHoward_FT = [356,390,529,504,483,546,281,355,349,143]\n",
    "ChrisBosh_FT = [474,463,472,504,470,384,229,241,223,179]\n",
    "ChrisPaul_FT = [394,292,332,455,161,337,260,286,295,289]\n",
    "KevinDurant_FT = [209,209,391,452,756,594,431,679,703,146]\n",
    "DerrickRose_FT = [146,146,146,197,259,476,194,0,27,152]\n",
    "DwayneWade_FT = [629,432,354,590,534,494,235,308,189,284]\n",
    "Free_Throws = np.array([KobeBryant_FT,JoeJohnson_FT,LeBronJames_FT,CarmeloAnthony_FT,DwightHoward_FT,ChrisBosh_FT,ChrisPaul_FT,KevinDurant_FT,DerrickRose_FT,DwayneWade_FT])\n",
    "\n",
    "\n",
    "#Free Throw Attempts\n",
    "KobeBryant_FTA = [819,768,742,564,541,583,451,626,21,241]\n",
    "JoeJohnson_FTA = [330,314,379,362,269,243,186,161,195,176]\n",
    "LeBronJames_FTA = [814,701,771,762,773,663,502,535,585,528]\n",
    "CarmeloAnthony_FTA = [709,568,590,468,612,605,367,512,541,237]\n",
    "DwightHoward_FTA = [598,666,897,849,816,916,572,721,638,271]\n",
    "ChrisBosh_FTA = [581,590,559,617,590,471,279,302,272,232]\n",
    "ChrisPaul_FTA = [465,357,390,524,190,384,302,323,345,321]\n",
    "KevinDurant_FTA = [256,256,448,524,840,675,501,750,805,171]\n",
    "DerrickRose_FTA = [205,205,205,250,338,555,239,0,32,187]\n",
    "DwayneWade_FTA = [803,535,467,771,702,652,297,425,258,370]\n",
    "Free_Throws_Attempt = np.array([KobeBryant_FTA,JoeJohnson_FTA,LeBronJames_FTA,CarmeloAnthony_FTA,DwightHoward_FTA,ChrisBosh_FTA,ChrisPaul_FTA,KevinDurant_FTA,DerrickRose_FTA,DwayneWade_FTA])\n"
   ]
  },
  {
   "cell_type": "code",
   "execution_count": 9,
   "metadata": {},
   "outputs": [
    {
     "name": "stdout",
     "output_type": "stream",
     "text": [
      "FT:  [[696 667 623 483 439 483 381 525  18 196]\n",
      " [261 235 316 299 220 195 158 132 159 141]\n",
      " [601 489 549 594 593 503 387 403 439 375]\n",
      " [573 459 464 371 508 507 295 425 459 189]\n",
      " [356 390 529 504 483 546 281 355 349 143]\n",
      " [474 463 472 504 470 384 229 241 223 179]\n",
      " [394 292 332 455 161 337 260 286 295 289]\n",
      " [209 209 391 452 756 594 431 679 703 146]\n",
      " [146 146 146 197 259 476 194   0  27 152]\n",
      " [629 432 354 590 534 494 235 308 189 284]]\n",
      "FTA:  [[819 768 742 564 541 583 451 626  21 241]\n",
      " [330 314 379 362 269 243 186 161 195 176]\n",
      " [814 701 771 762 773 663 502 535 585 528]\n",
      " [709 568 590 468 612 605 367 512 541 237]\n",
      " [598 666 897 849 816 916 572 721 638 271]\n",
      " [581 590 559 617 590 471 279 302 272 232]\n",
      " [465 357 390 524 190 384 302 323 345 321]\n",
      " [256 256 448 524 840 675 501 750 805 171]\n",
      " [205 205 205 250 338 555 239   0  32 187]\n",
      " [803 535 467 771 702 652 297 425 258 370]]\n"
     ]
    }
   ],
   "source": [
    "print('FT: ', Free_Throws)\n",
    "print('FTA: ',Free_Throws_Attempt )"
   ]
  },
  {
   "cell_type": "code",
   "execution_count": 13,
   "metadata": {},
   "outputs": [
    {
     "name": "stdout",
     "output_type": "stream",
     "text": [
      "Kobe Bryant:  [696 667 623 483 439 483 381 525  18 196]\n",
      "Kobe Bryant:  [819 768 742 564 541 583 451 626  21 241]\n"
     ]
    }
   ],
   "source": [
    "print('Kobe Bryant: ',Free_Throws[Pdict[\"KobeBryant\"]])\n",
    "print('Kobe Bryant: ',Free_Throws_Attempt[Pdict[\"KobeBryant\"]])"
   ]
  },
  {
   "cell_type": "code",
   "execution_count": 16,
   "metadata": {},
   "outputs": [
    {
     "ename": "SyntaxError",
     "evalue": "invalid syntax (<ipython-input-16-3d327700b0ca>, line 1)",
     "output_type": "error",
     "traceback": [
      "\u001b[0;36m  File \u001b[0;32m\"<ipython-input-16-3d327700b0ca>\"\u001b[0;36m, line \u001b[0;32m1\u001b[0m\n\u001b[0;31m    print('Kobe Bryant in 2007: ',Free_Throws[Pdict[\"KobeBryant\"]Sdict[\"2007\"]])\u001b[0m\n\u001b[0m                                                                     ^\u001b[0m\n\u001b[0;31mSyntaxError\u001b[0m\u001b[0;31m:\u001b[0m invalid syntax\n"
     ]
    }
   ],
   "source": [
    "print('Kobe Bryant in 2007: ',Free_Throws[Pdict[\"KobeBryant\"]Sdict[\"2007\"]])"
   ]
  },
  {
   "cell_type": "code",
   "execution_count": 17,
   "metadata": {},
   "outputs": [
    {
     "name": "stdout",
     "output_type": "stream",
     "text": [
      "Kobe Bryant in 2007:  623\n"
     ]
    }
   ],
   "source": [
    "print('Kobe Bryant in 2007: ',Free_Throws[Pdict[\"KobeBryant\"]][Sdict[\"2007\"]])"
   ]
  },
  {
   "cell_type": "code",
   "execution_count": 18,
   "metadata": {
    "collapsed": true
   },
   "outputs": [],
   "source": [
    "import matplotlib.pyplot as plt"
   ]
  },
  {
   "cell_type": "code",
   "execution_count": 19,
   "metadata": {},
   "outputs": [
    {
     "data": {
      "image/png": "[encoded data removed]",
      "text/plain": [
       "<matplotlib.figure.Figure at 0x105f2a320>"
      ]
     },
     "metadata": {},
     "output_type": "display_data"
    }
   ],
   "source": [
    "plt.plot(Free_Throws[Pdict[\"KobeBryant\"]])\n",
    "plt.show() "
   ]
  },
  {
   "cell_type": "code",
   "execution_count": null,
   "metadata": {
    "collapsed": true
   },
   "outputs": [],
   "source": []
  }
 ],
 "metadata": {
  "anaconda-cloud": {},
  "kernelspec": {
   "display_name": "Python 3",
   "language": "python",
   "name": "python3"
  },
  "language_info": {
   "codemirror_mode": {
    "name": "ipython",
    "version": 3
   },
   "file_extension": ".py",
   "mimetype": "text/x-python",
   "name": "python",
   "nbconvert_exporter": "python",
   "pygments_lexer": "ipython3",
   "version": "3.6.2"
  }
 },
 "nbformat": 4,
 "nbformat_minor": 1
}

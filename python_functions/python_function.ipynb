{
 "cells": [
  {
   "cell_type": "code",
   "execution_count": 1,
   "metadata": {},
   "outputs": [],
   "source": [
    "# Write a function called product that accepts two parameters and returns the product \n",
    "# of the two parameters (multiple them together)"
   ]
  },
  {
   "cell_type": "code",
   "execution_count": 2,
   "metadata": {},
   "outputs": [
    {
     "data": {
      "text/plain": [
       "-4"
      ]
     },
     "execution_count": 2,
     "metadata": {},
     "output_type": "execute_result"
    }
   ],
   "source": [
    "def product(a,b):\n",
    "    return a*b\n",
    "\n",
    "product(2,2) # 4\n",
    "product(2,-2) # -4"
   ]
  },
  {
   "cell_type": "code",
   "execution_count": 3,
   "metadata": {},
   "outputs": [
    {
     "data": {
      "text/plain": [
       "'\\nWrite a function called return_day. \\nthis function takes in one parameter \\n(a number from 1-7) and returns the day of the week \\n(1 is Sunday, 2 is Monday, 3 is Tuesday etc.). \\nIf the number is less than 1 or greater than 7, \\nthe function should return None\\n'"
      ]
     },
     "execution_count": 3,
     "metadata": {},
     "output_type": "execute_result"
    }
   ],
   "source": [
    "'''\n",
    "Write a function called return_day. \n",
    "this function takes in one parameter \n",
    "(a number from 1-7) and returns the day of the week \n",
    "(1 is Sunday, 2 is Monday, 3 is Tuesday etc.). \n",
    "If the number is less than 1 or greater than 7, \n",
    "the function should return None\n",
    "'''"
   ]
  },
  {
   "cell_type": "code",
   "execution_count": 11,
   "metadata": {},
   "outputs": [
    {
     "data": {
      "text/plain": [
       "'None'"
      ]
     },
     "execution_count": 11,
     "metadata": {},
     "output_type": "execute_result"
    }
   ],
   "source": [
    "def return_day(n):\n",
    "    days = [None, 'Sunday', 'Monday', 'Tuesday', 'Wednesday', 'Thursday', 'Friday', 'Saturday']\n",
    "    try:\n",
    "        return days[n]\n",
    "    except:\n",
    "        return None \n",
    "    \n",
    "return_day(42)\n"
   ]
  },
  {
   "cell_type": "code",
   "execution_count": 15,
   "metadata": {},
   "outputs": [
    {
     "data": {
      "text/plain": [
       "3"
      ]
     },
     "execution_count": 15,
     "metadata": {},
     "output_type": "execute_result"
    }
   ],
   "source": [
    "'''\n",
    "Write a function called last_element. \n",
    "This function takes in one parameter \n",
    "(a list) and returns the last value in the list.\n",
    "It should return None if the list is empty.\n",
    "'''\n",
    "def last_element(n):\n",
    "    try:\n",
    "        return n.pop()\n",
    "    except:\n",
    "        return None\n",
    "\n",
    "last_element([1,2,3])\n"
   ]
  },
  {
   "cell_type": "code",
   "execution_count": 18,
   "metadata": {},
   "outputs": [
    {
     "data": {
      "text/plain": [
       "'First is greater'"
      ]
     },
     "execution_count": 18,
     "metadata": {},
     "output_type": "execute_result"
    }
   ],
   "source": [
    "# number_compare\n",
    "'''\n",
    "Write a function called number_compare. \n",
    "This function takes in two parameters (both numbers). \n",
    "If the first is greater than the second, this function returns \n",
    "\"First is greater.\" If the second number is greater than the first, \n",
    "the function returns \"Second is greater.\" \n",
    "Otherwise the function returns \"Numbers are equal.\"\n",
    "'''\n",
    "def number_compare(a,b):\n",
    "    if a > b:\n",
    "        return \"First is greater\"\n",
    "    elif a < b:\n",
    "        return \"Second is greater\"\n",
    "    else: \n",
    "        return \"Numbers are equal\"\n",
    "    \n",
    "number_compare(1,0)"
   ]
  },
  {
   "cell_type": "code",
   "execution_count": 28,
   "metadata": {},
   "outputs": [
    {
     "data": {
      "text/plain": [
       "1"
      ]
     },
     "execution_count": 28,
     "metadata": {},
     "output_type": "execute_result"
    }
   ],
   "source": [
    "# Single_letter_count\n",
    "\n",
    "'''\n",
    "Write a function called single_letter_count. \n",
    "This function takes in two parameters (two strings). \n",
    "The first parameter should be a word and the second should be a letter.\n",
    "The function returns the number of times that letter appears in the word.\n",
    "The function should be case insensitive \n",
    "(does not matter if the input is lowercase or uppercase). \n",
    "If the letter is not found in the word, \n",
    "the function should return 0.  \n",
    "'''\n",
    "\n",
    "def single_letter_count(a,b):\n",
    "    return a.lower().count(b.lower())\n",
    "  \n",
    "single_letter_count(\"Hello World\", \"h\")"
   ]
  },
  {
   "cell_type": "code",
   "execution_count": 32,
   "metadata": {},
   "outputs": [
    {
     "data": {
      "text/plain": [
       "{'a': 1, 'e': 2, 'm': 1, 'o': 1, 's': 1, 'w': 1}"
      ]
     },
     "execution_count": 32,
     "metadata": {},
     "output_type": "execute_result"
    }
   ],
   "source": [
    "# multiple_letter_count\n",
    "'''\n",
    "Write a function called multiple_letter_count. \n",
    "This function takes in one parameter (a string) \n",
    "and returns a dictionary with the keys being the letters \n",
    "and the values being the count of the letter.\n",
    "'''\n",
    "\n",
    "def multiple_letter_count(string):\n",
    "    return {letter: string.count(letter) for letter in string}\n",
    "\n",
    "multiple_letter_count(\"awesome\")"
   ]
  },
  {
   "cell_type": "code",
   "execution_count": 30,
   "metadata": {},
   "outputs": [
    {
     "name": "stdout",
     "output_type": "stream",
     "text": [
      "{'s': 1, 'l': 1, 'a': 1, 'v': 2, 'o': 3, 'p': 2, 'i': 1, 'c': 1}\n"
     ]
    }
   ],
   "source": [
    "string = 'slavopopovic'\n",
    "dict_1 = {letter: string.count(letter) for letter in string}\n",
    "print (dict_1)"
   ]
  },
  {
   "cell_type": "code",
   "execution_count": 52,
   "metadata": {},
   "outputs": [
    {
     "name": "stdout",
     "output_type": "stream",
     "text": [
      "3\n",
      "1\n",
      "[20, 1, 2, 3]\n",
      "[1, 2, 3, 30]\n"
     ]
    }
   ],
   "source": [
    "# list_manipulation\n",
    "'''\n",
    "Write a function called list_manipulation. This function should take in four parameters (a list, command, location and value).\n",
    "\n",
    "If the command is \"remove\" and the location \n",
    "is \"end\", the function should remove the last value in the list and return the value removed\n",
    "If the command is \"remove\" \n",
    "\n",
    "and the location is \"beginning\", \n",
    "the function should remove the first\n",
    "value in the list and return the value removed\n",
    "\n",
    "If the command is \"add\" and \n",
    "the location is \"beginning\", the function \n",
    "should add the value (fourth parameter) \n",
    "to the beginning of the list and return the list\n",
    "\n",
    "If the command is \n",
    "\"add\" and the location is \"end\", \n",
    "the function should add the value (fourth parameter) \n",
    "to the end of the list and return the list\n",
    "'''\n",
    "\n",
    "def list_manipulation(l, a, b, c=10):\n",
    "    if a == 'add' and b == 'beginning':\n",
    "        l.insert(0,c)\n",
    "        return l\n",
    "    elif a == 'add' and b == 'end':\n",
    "        l.append(c)\n",
    "        return l\n",
    "    elif a == 'remove' and b == 'end':\n",
    "        return l.pop()\n",
    "    else:\n",
    "        return l.pop(0)\n",
    "      \n",
    "\n",
    "print(list_manipulation([1,2,3], \"remove\", \"end\")) # 3\n",
    "print(list_manipulation([1,2,3], \"remove\", \"beginning\")) #  1\n",
    "print(list_manipulation([1,2,3], \"add\", \"beginning\", 20)) #  [20,1,2,3]\n",
    "print(list_manipulation([1,2,3], \"add\", \"end\", 30))#  [1,2,3,30] "
   ]
  },
  {
   "cell_type": "code",
   "execution_count": 40,
   "metadata": {},
   "outputs": [
    {
     "data": {
      "text/plain": [
       "True"
      ]
     },
     "execution_count": 40,
     "metadata": {},
     "output_type": "execute_result"
    }
   ],
   "source": [
    "# is_palindrome\n",
    "'''\n",
    "Write a function called is_palindrome. A Palindrome is a word, phrase, number,\n",
    "or other sequence of characters which reads the same backward or forward. \n",
    "This function should take in one parameter and returns True or False depending on whether \n",
    "it is a palindrome. As a bonus, allow your \n",
    "function to ignore whitespace and capitalization so that \n",
    "is_palindrome('a man a plan a canal Panama') returns True.\n",
    "'''\n",
    "\n",
    "def is_palindrome(a):\n",
    "    a = a.replace(' ', '')\n",
    "    l = [x for x in a]\n",
    "    l.reverse()\n",
    "    b = ''.join(l).replace(' ', '')\n",
    "    return  a.lower() == b.lower()\n",
    "        \n",
    "is_palindrome('a man a plan a canal Panama')\n",
    "    "
   ]
  },
  {
   "cell_type": "code",
   "execution_count": 42,
   "metadata": {},
   "outputs": [
    {
     "data": {
      "text/plain": [
       "False"
      ]
     },
     "execution_count": 42,
     "metadata": {},
     "output_type": "execute_result"
    }
   ],
   "source": [
    "def is_palindrome(string):\n",
    "    stripped = string.replace(\" \", \"\")\n",
    "    return stripped == stripped[::-1]\n",
    "\n",
    "is_palindrome('a man a plan a canal Panama')"
   ]
  },
  {
   "cell_type": "code",
   "execution_count": 43,
   "metadata": {},
   "outputs": [
    {
     "data": {
      "text/plain": [
       "3"
      ]
     },
     "execution_count": 43,
     "metadata": {},
     "output_type": "execute_result"
    }
   ],
   "source": [
    "# frequenc\n",
    "'''\n",
    "Write a function called frequency. This function accepts a \n",
    "list and a search_term (this will always be a primitive value)\n",
    "and returns the number of times the search_term appears in the list.\n",
    "'''\n",
    "def frequency(collection, searchTerm):\n",
    "    return collection.count(searchTerm)\n",
    "\n",
    "frequency([1,2,3,4,4,4], 4)\n",
    "\n"
   ]
  },
  {
   "cell_type": "code",
   "execution_count": 47,
   "metadata": {},
   "outputs": [
    {
     "data": {
      "text/plain": [
       "48"
      ]
     },
     "execution_count": 47,
     "metadata": {},
     "output_type": "execute_result"
    }
   ],
   "source": [
    "# multiply_even_numbers\n",
    "'''\n",
    "Write a function called multiply_even_numbers. \n",
    "This function accepts a \n",
    "list of numbers and\n",
    "returns the product of all even numbers in the list\n",
    "'''\n",
    "\n",
    "def multiply_even_numbers(lst):\n",
    "    \n",
    "    total = 1\n",
    "    for val in lst:\n",
    "        \n",
    "        if val % 2 == 0:\n",
    "            total = total * val\n",
    "    return total\n",
    "\n",
    "multiply_even_numbers([2,3,4,5,6])"
   ]
  },
  {
   "cell_type": "code",
   "execution_count": 49,
   "metadata": {},
   "outputs": [
    {
     "data": {
      "text/plain": [
       "'Matt'"
      ]
     },
     "execution_count": 49,
     "metadata": {},
     "output_type": "execute_result"
    }
   ],
   "source": [
    "# capitalize\n",
    "'''\n",
    "Write a function called capitalize. \n",
    "This function accepts a string and returns the same \n",
    "string with the first letter capitalized. \n",
    "You may want to use slices to help you out.\n",
    "'''\n",
    "\n",
    "def capitalize(a):\n",
    "    return a.title()\n",
    "\n",
    "capitalize(\"matt\")"
   ]
  },
  {
   "cell_type": "code",
   "execution_count": 50,
   "metadata": {},
   "outputs": [
    {
     "data": {
      "text/plain": [
       "'Matt'"
      ]
     },
     "execution_count": 50,
     "metadata": {},
     "output_type": "execute_result"
    }
   ],
   "source": [
    "# 2nd solution\n",
    "def capitalize(string):\n",
    "    return string[:1].upper() + string[1:]\n",
    "capitalize(\"matt\")"
   ]
  },
  {
   "cell_type": "code",
   "execution_count": 61,
   "metadata": {},
   "outputs": [
    {
     "data": {
      "text/plain": [
       "[1, 2, 'All done']"
      ]
     },
     "execution_count": 61,
     "metadata": {},
     "output_type": "execute_result"
    }
   ],
   "source": [
    "# compact\n",
    "'''\n",
    "Write a function called compact. This function \n",
    "accepts a list and returns a \n",
    "list of values that are truthy values, without any of the falsey values.\n",
    "'''\n",
    "\n",
    "def compact(a):\n",
    "    l = []\n",
    "    for x in a:\n",
    "        if bool(x):\n",
    "            l.append(x)\n",
    "    return l\n",
    "\n",
    "compact([0,1,2,\"\",[], False, {}, None, \"All done\"])\n",
    "    "
   ]
  },
  {
   "cell_type": "code",
   "execution_count": 62,
   "metadata": {},
   "outputs": [
    {
     "data": {
      "text/plain": [
       "[1, 2, 'All done']"
      ]
     },
     "execution_count": 62,
     "metadata": {},
     "output_type": "execute_result"
    }
   ],
   "source": [
    "# 2nd solution\n",
    "def compact(l):\n",
    "    return [val for val in l if val]\n",
    "compact([0,1,2,\"\",[], False, {}, None, \"All done\"])"
   ]
  },
  {
   "cell_type": "code",
   "execution_count": 64,
   "metadata": {},
   "outputs": [
    {
     "data": {
      "text/plain": [
       "['z']"
      ]
     },
     "execution_count": 64,
     "metadata": {},
     "output_type": "execute_result"
    }
   ],
   "source": [
    "# intersection\n",
    "'''\n",
    "Write a function called intersection. \n",
    "This function should accept \n",
    "two lists and return a list with the values that are in both input lists.\n",
    "'''\n",
    "def intersection(a,b):\n",
    "    l = []\n",
    "    for x in a:\n",
    "        for y in b:\n",
    "            if (x == y):\n",
    "                l.append(x)\n",
    "    return l\n",
    "\n",
    "intersection(['a','b','z'], ['x','y','z'])"
   ]
  },
  {
   "cell_type": "code",
   "execution_count": 65,
   "metadata": {},
   "outputs": [
    {
     "data": {
      "text/plain": [
       "['z']"
      ]
     },
     "execution_count": 65,
     "metadata": {},
     "output_type": "execute_result"
    }
   ],
   "source": [
    "# Paitonic way\n",
    "\n",
    "def intersection(l1, l2):\n",
    "    return [val for val in l1 if val in l2]\n",
    "intersection(['a','b','z'], ['x','y','z'])"
   ]
  },
  {
   "cell_type": "code",
   "execution_count": 74,
   "metadata": {},
   "outputs": [
    {
     "data": {
      "text/plain": [
       "[[2, 4], [1, 3]]"
      ]
     },
     "execution_count": 74,
     "metadata": {},
     "output_type": "execute_result"
    }
   ],
   "source": [
    "# partition\n",
    "'''\n",
    "Write a function called partition. \n",
    "This function accepts a list and a\n",
    "callback function (which you can assume returns True or False ). \n",
    "The function should iterate over each element in the list and \n",
    "invoke the callback function at each iteration. If the result of \n",
    "the callback function is True, the element should go into one list. \n",
    "If it's False, the element should go into another list. \n",
    "When it's finished, partition should return both lists inside of one larger list\n",
    "'''\n",
    "def isEven(num):\n",
    "    return num % 2 == 0\n",
    "\n",
    "def partition(a,fn):\n",
    "    t = []\n",
    "    f = []\n",
    "    for x in a:\n",
    "        if fn(x):\n",
    "            t.append(x)\n",
    "        else:\n",
    "            f.append(x)\n",
    "            \n",
    "            \n",
    "    return [t,f]\n",
    "\n",
    "partition([1,2,3,4], isEven)\n",
    "    \n",
    "\n",
    "    "
   ]
  },
  {
   "cell_type": "code",
   "execution_count": 75,
   "metadata": {},
   "outputs": [
    {
     "data": {
      "text/plain": [
       "[[2, 4], [1, 3]]"
      ]
     },
     "execution_count": 75,
     "metadata": {},
     "output_type": "execute_result"
    }
   ],
   "source": [
    "# paitonic way\n",
    "def partition(lst, fn):\n",
    "    return [[val for val in lst if fn(val)], [val for val in lst if not fn(val)]]\n",
    "partition([1,2,3,4], isEven)"
   ]
  },
  {
   "cell_type": "code",
   "execution_count": null,
   "metadata": {},
   "outputs": [],
   "source": []
  }
 ],
 "metadata": {
  "kernelspec": {
   "display_name": "Python 3",
   "language": "python",
   "name": "python3"
  },
  "language_info": {
   "codemirror_mode": {
    "name": "ipython",
    "version": 3
   },
   "file_extension": ".py",
   "mimetype": "text/x-python",
   "name": "python",
   "nbconvert_exporter": "python",
   "pygments_lexer": "ipython3",
   "version": "3.6.4"
  }
 },
 "nbformat": 4,
 "nbformat_minor": 2
}

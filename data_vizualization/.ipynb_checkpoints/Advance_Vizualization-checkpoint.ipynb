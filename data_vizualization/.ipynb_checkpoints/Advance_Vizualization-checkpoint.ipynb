{
 "cells": [
  {
   "cell_type": "code",
   "execution_count": 1,
   "metadata": {},
   "outputs": [
    {
     "data": {
      "text/plain": [
       "'/Users/mc24/Documents/Python/Python-/data_vizualization'"
      ]
     },
     "execution_count": 1,
     "metadata": {},
     "output_type": "execute_result"
    }
   ],
   "source": [
    "import pandas as pd\n",
    "import os\n",
    "\n",
    "os.getcwd()"
   ]
  },
  {
   "cell_type": "code",
   "execution_count": 3,
   "metadata": {},
   "outputs": [],
   "source": [
    "movies = pd.read_csv(\"Movie-Ratings.csv\")"
   ]
  },
  {
   "cell_type": "code",
   "execution_count": 4,
   "metadata": {},
   "outputs": [
    {
     "data": {
      "text/plain": [
       "559"
      ]
     },
     "execution_count": 4,
     "metadata": {},
     "output_type": "execute_result"
    }
   ],
   "source": [
    "len(movies)"
   ]
  },
  {
   "cell_type": "code",
   "execution_count": 5,
   "metadata": {},
   "outputs": [
    {
     "data": {
      "text/html": [
       "<div>\n",
       "<style>\n",
       "    .dataframe thead tr:only-child th {\n",
       "        text-align: right;\n",
       "    }\n",
       "\n",
       "    .dataframe thead th {\n",
       "        text-align: left;\n",
       "    }\n",
       "\n",
       "    .dataframe tbody tr th {\n",
       "        vertical-align: top;\n",
       "    }\n",
       "</style>\n",
       "<table border=\"1\" class=\"dataframe\">\n",
       "  <thead>\n",
       "    <tr style=\"text-align: right;\">\n",
       "      <th></th>\n",
       "      <th>Film</th>\n",
       "      <th>Genre</th>\n",
       "      <th>Rotten Tomatoes Ratings %</th>\n",
       "      <th>Audience Ratings %</th>\n",
       "      <th>Budget (million $)</th>\n",
       "      <th>Year of release</th>\n",
       "    </tr>\n",
       "  </thead>\n",
       "  <tbody>\n",
       "    <tr>\n",
       "      <th>0</th>\n",
       "      <td>(500) Days of Summer</td>\n",
       "      <td>Comedy</td>\n",
       "      <td>87</td>\n",
       "      <td>81</td>\n",
       "      <td>8</td>\n",
       "      <td>2009</td>\n",
       "    </tr>\n",
       "    <tr>\n",
       "      <th>1</th>\n",
       "      <td>10,000 B.C.</td>\n",
       "      <td>Adventure</td>\n",
       "      <td>9</td>\n",
       "      <td>44</td>\n",
       "      <td>105</td>\n",
       "      <td>2008</td>\n",
       "    </tr>\n",
       "    <tr>\n",
       "      <th>2</th>\n",
       "      <td>12 Rounds</td>\n",
       "      <td>Action</td>\n",
       "      <td>30</td>\n",
       "      <td>52</td>\n",
       "      <td>20</td>\n",
       "      <td>2009</td>\n",
       "    </tr>\n",
       "    <tr>\n",
       "      <th>3</th>\n",
       "      <td>127 Hours</td>\n",
       "      <td>Adventure</td>\n",
       "      <td>93</td>\n",
       "      <td>84</td>\n",
       "      <td>18</td>\n",
       "      <td>2010</td>\n",
       "    </tr>\n",
       "    <tr>\n",
       "      <th>4</th>\n",
       "      <td>17 Again</td>\n",
       "      <td>Comedy</td>\n",
       "      <td>55</td>\n",
       "      <td>70</td>\n",
       "      <td>20</td>\n",
       "      <td>2009</td>\n",
       "    </tr>\n",
       "  </tbody>\n",
       "</table>\n",
       "</div>"
      ],
      "text/plain": [
       "                    Film      Genre  Rotten Tomatoes Ratings %  \\\n",
       "0  (500) Days of Summer      Comedy                         87   \n",
       "1            10,000 B.C.  Adventure                          9   \n",
       "2             12 Rounds      Action                         30   \n",
       "3              127 Hours  Adventure                         93   \n",
       "4              17 Again      Comedy                         55   \n",
       "\n",
       "   Audience Ratings %  Budget (million $)  Year of release  \n",
       "0                  81                   8             2009  \n",
       "1                  44                 105             2008  \n",
       "2                  52                  20             2009  \n",
       "3                  84                  18             2010  \n",
       "4                  70                  20             2009  "
      ]
     },
     "execution_count": 5,
     "metadata": {},
     "output_type": "execute_result"
    }
   ],
   "source": [
    "movies.head()"
   ]
  },
  {
   "cell_type": "code",
   "execution_count": 6,
   "metadata": {},
   "outputs": [
    {
     "data": {
      "text/plain": [
       "Index(['Film', 'Genre', 'Rotten Tomatoes Ratings %', 'Audience Ratings %',\n",
       "       'Budget (million $)', 'Year of release'],\n",
       "      dtype='object')"
      ]
     },
     "execution_count": 6,
     "metadata": {},
     "output_type": "execute_result"
    }
   ],
   "source": [
    "movies.columns"
   ]
  },
  {
   "cell_type": "code",
   "execution_count": 9,
   "metadata": {
    "collapsed": true
   },
   "outputs": [],
   "source": [
    "movies.columns = ['Film', 'Genre', 'CriticRating', 'AudienceRatings',\n",
    "       'BudgetMillions', 'Year']"
   ]
  },
  {
   "cell_type": "code",
   "execution_count": 10,
   "metadata": {},
   "outputs": [
    {
     "data": {
      "text/html": [
       "<div>\n",
       "<style>\n",
       "    .dataframe thead tr:only-child th {\n",
       "        text-align: right;\n",
       "    }\n",
       "\n",
       "    .dataframe thead th {\n",
       "        text-align: left;\n",
       "    }\n",
       "\n",
       "    .dataframe tbody tr th {\n",
       "        vertical-align: top;\n",
       "    }\n",
       "</style>\n",
       "<table border=\"1\" class=\"dataframe\">\n",
       "  <thead>\n",
       "    <tr style=\"text-align: right;\">\n",
       "      <th></th>\n",
       "      <th>Film</th>\n",
       "      <th>Genre</th>\n",
       "      <th>CriticRating</th>\n",
       "      <th>AudienceRatings</th>\n",
       "      <th>BudgetMillions</th>\n",
       "      <th>Year</th>\n",
       "    </tr>\n",
       "  </thead>\n",
       "  <tbody>\n",
       "    <tr>\n",
       "      <th>0</th>\n",
       "      <td>(500) Days of Summer</td>\n",
       "      <td>Comedy</td>\n",
       "      <td>87</td>\n",
       "      <td>81</td>\n",
       "      <td>8</td>\n",
       "      <td>2009</td>\n",
       "    </tr>\n",
       "    <tr>\n",
       "      <th>1</th>\n",
       "      <td>10,000 B.C.</td>\n",
       "      <td>Adventure</td>\n",
       "      <td>9</td>\n",
       "      <td>44</td>\n",
       "      <td>105</td>\n",
       "      <td>2008</td>\n",
       "    </tr>\n",
       "    <tr>\n",
       "      <th>2</th>\n",
       "      <td>12 Rounds</td>\n",
       "      <td>Action</td>\n",
       "      <td>30</td>\n",
       "      <td>52</td>\n",
       "      <td>20</td>\n",
       "      <td>2009</td>\n",
       "    </tr>\n",
       "    <tr>\n",
       "      <th>3</th>\n",
       "      <td>127 Hours</td>\n",
       "      <td>Adventure</td>\n",
       "      <td>93</td>\n",
       "      <td>84</td>\n",
       "      <td>18</td>\n",
       "      <td>2010</td>\n",
       "    </tr>\n",
       "    <tr>\n",
       "      <th>4</th>\n",
       "      <td>17 Again</td>\n",
       "      <td>Comedy</td>\n",
       "      <td>55</td>\n",
       "      <td>70</td>\n",
       "      <td>20</td>\n",
       "      <td>2009</td>\n",
       "    </tr>\n",
       "  </tbody>\n",
       "</table>\n",
       "</div>"
      ],
      "text/plain": [
       "                    Film      Genre  CriticRating  AudienceRatings  \\\n",
       "0  (500) Days of Summer      Comedy            87               81   \n",
       "1            10,000 B.C.  Adventure             9               44   \n",
       "2             12 Rounds      Action            30               52   \n",
       "3              127 Hours  Adventure            93               84   \n",
       "4              17 Again      Comedy            55               70   \n",
       "\n",
       "   BudgetMillions  Year  \n",
       "0               8  2009  \n",
       "1             105  2008  \n",
       "2              20  2009  \n",
       "3              18  2010  \n",
       "4              20  2009  "
      ]
     },
     "execution_count": 10,
     "metadata": {},
     "output_type": "execute_result"
    }
   ],
   "source": [
    "movies.head()"
   ]
  },
  {
   "cell_type": "code",
   "execution_count": null,
   "metadata": {
    "collapsed": true
   },
   "outputs": [],
   "source": []
  }
 ],
 "metadata": {
  "kernelspec": {
   "display_name": "Python 3",
   "language": "python",
   "name": "python3"
  },
  "language_info": {
   "codemirror_mode": {
    "name": "ipython",
    "version": 3
   },
   "file_extension": ".py",
   "mimetype": "text/x-python",
   "name": "python",
   "nbconvert_exporter": "python",
   "pygments_lexer": "ipython3",
   "version": "3.6.2"
  }
 },
 "nbformat": 4,
 "nbformat_minor": 2
}

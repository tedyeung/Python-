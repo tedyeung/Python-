{
 "cells": [
  {
   "cell_type": "code",
   "execution_count": 8,
   "metadata": {},
   "outputs": [
    {
     "data": {
      "text/plain": [
       "'martin does not play banjo'"
      ]
     },
     "execution_count": 8,
     "metadata": {},
     "output_type": "execute_result"
    }
   ],
   "source": [
    "'''\n",
    "Create a function which answers the question \"Are you playing banjo?\".\n",
    "If your name starts with the letter \"R\" or lower case \"r\", you are playing banjo!\n",
    "'''\n",
    "\n",
    "def areYouPlayingBanjo(name):\n",
    "    if name[0].lower == 'r':\n",
    "        return name + \" plays banjo\" \n",
    "    else:\n",
    "        return name + \" does not play banjo\" \n",
    "\n",
    "areYouPlayingBanjo(\"martin\")"
   ]
  },
  {
   "cell_type": "code",
   "execution_count": 7,
   "metadata": {},
   "outputs": [
    {
     "data": {
      "text/plain": [
       "'Rikke does not play banjo'"
      ]
     },
     "execution_count": 7,
     "metadata": {},
     "output_type": "execute_result"
    }
   ],
   "source": [
    "areYouPlayingBanjo(\"Rikke\")"
   ]
  },
  {
   "cell_type": "code",
   "execution_count": 21,
   "metadata": {},
   "outputs": [
    {
     "data": {
      "text/plain": [
       "True"
      ]
     },
     "execution_count": 21,
     "metadata": {},
     "output_type": "execute_result"
    }
   ],
   "source": [
    "'''\n",
    "Given a string s, write a method\n",
    "(function) that will return true \n",
    "if its a valid single integer or\n",
    "floating number or false if its not.\n",
    "Valid examples, should return true:\n",
    "'''\n",
    "def isDigit(s):\n",
    "    try:\n",
    "        s = float(s)\n",
    "        return type(s) == float or type(s) == int\n",
    "    except:\n",
    "        return False \n",
    "        \n",
    "       \n",
    "    \n",
    "isDigit('3')"
   ]
  },
  {
   "cell_type": "code",
   "execution_count": null,
   "metadata": {},
   "outputs": [],
   "source": [
    "def isDigit(string):\n",
    "    str = string.strip()\n",
    "    if len(str) == 0:\n",
    "        return False\n",
    "    if str[0] == '-':\n",
    "        str = str[1:]\n",
    "    if len(str) == 0:\n",
    "        return False    \n",
    "    if str[0] == '.' or str[-1] == '.':\n",
    "        return False\n",
    "    digit = [s for s in str if s in '0123456789.']\n",
    "    return True if len(digit) == len(str) else False"
   ]
  }
 ],
 "metadata": {
  "kernelspec": {
   "display_name": "Python 3",
   "language": "python",
   "name": "python3"
  },
  "language_info": {
   "codemirror_mode": {
    "name": "ipython",
    "version": 3
   },
   "file_extension": ".py",
   "mimetype": "text/x-python",
   "name": "python",
   "nbconvert_exporter": "python",
   "pygments_lexer": "ipython3",
   "version": "3.6.4"
  }
 },
 "nbformat": 4,
 "nbformat_minor": 2
}

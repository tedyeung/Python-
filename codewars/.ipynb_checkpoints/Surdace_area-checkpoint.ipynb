{
 "cells": [
  {
   "cell_type": "code",
   "execution_count": 2,
   "metadata": {},
   "outputs": [
    {
     "name": "stdout",
     "output_type": "stream",
     "text": [
      "[88, 48]\n"
     ]
    }
   ],
   "source": [
    "'''\n",
    "Write a function that returns the total surface \n",
    "area and volume of a box as an array: [area, volume].\n",
    "'''\n",
    "def get_size(w,h,d):\n",
    "    res = []\n",
    "    sr = (2*w*h) + (2*h*d) + (2*d*w)\n",
    "    vol = w * h * d\n",
    "    res.append(sr)\n",
    "    res.append(vol)\n",
    "    print (res)\n",
    "\n",
    "get_size(4, 2, 6)\n",
    "    "
   ]
  },
  {
   "cell_type": "code",
   "execution_count": null,
   "metadata": {
    "collapsed": true
   },
   "outputs": [],
   "source": []
  }
 ],
 "metadata": {
  "kernelspec": {
   "display_name": "Python 3",
   "language": "python",
   "name": "python3"
  },
  "language_info": {
   "codemirror_mode": {
    "name": "ipython",
    "version": 3
   },
   "file_extension": ".py",
   "mimetype": "text/x-python",
   "name": "python",
   "nbconvert_exporter": "python",
   "pygments_lexer": "ipython3",
   "version": "3.6.2"
  }
 },
 "nbformat": 4,
 "nbformat_minor": 2
}
